{
 "cells": [
  {
   "cell_type": "code",
   "execution_count": 196,
   "id": "8762ee86",
   "metadata": {},
   "outputs": [],
   "source": [
    "import pandas as pd\n",
    "import ujson\n",
    "import json\n",
    "pd.options.display.max_colwidth = 5000\n",
    "import matplotlib"
   ]
  },
  {
   "cell_type": "code",
   "execution_count": 4,
   "id": "90e7fed8",
   "metadata": {},
   "outputs": [],
   "source": [
    "lib19 = pd.read_feather('../data/feather_files/RS_2019_liberal_df.feather')\n",
    "con19 = pd.read_feather(\"../data/feather_files/RS_2019_conservative_df.feather\")\n",
    "pol19 = pd.read_feather('../data/feather_files/RS_2019_politics_df.feather')\n",
    "can19 = pd.read_feather('../data/feather_files/RS_2019_canada_df.feather')"
   ]
  },
  {
   "cell_type": "code",
   "execution_count": 181,
   "id": "700484b9",
   "metadata": {},
   "outputs": [],
   "source": [
    "pol19_sub = pol19[(pol19.selftext.astype(str).str.len()>10)].reset_index()\n",
    "can19_sub = can19[(can19.selftext.astype(str).str.len()>10)].reset_index()\n",
    "lib19_sub = lib19[(lib19.selftext.astype(str).str.len()>10)].reset_index()\n",
    "con19_sub = con19[(con19.selftext.astype(str).str.len()>10)].reset_index()"
   ]
  },
  {
   "cell_type": "code",
   "execution_count": 182,
   "id": "775bcfec",
   "metadata": {},
   "outputs": [],
   "source": [
    "def concat_text(df):\n",
    "    df['text'] = df.title + \" \" + df.selftext\n",
    "    df.drop(columns=[\"title\",\"selftext\"],inplace=True)\n",
    "    return df\n",
    "pol19_sub = concat_text(pol19_sub)\n",
    "con19_sub = concat_text(con19_sub)\n",
    "lib19_sub = concat_text(lib19_sub)\n",
    "can19_sub = concat_text(can19_sub)"
   ]
  },
  {
   "cell_type": "code",
   "execution_count": 86,
   "id": "890b695a",
   "metadata": {},
   "outputs": [],
   "source": [
    "from nltk import sent_tokenize, word_tokenize\n",
    "from nltk.corpus import stopwords\n",
    "from nltk import WordNetLemmatizer\n",
    "import random\n",
    "#nltk.download('all')"
   ]
  },
  {
   "cell_type": "code",
   "execution_count": 168,
   "id": "693c7196",
   "metadata": {},
   "outputs": [],
   "source": [
    "def clean_text(text):\n",
    "    \"\"\"\n",
    "    To be filled later\n",
    "    \"\"\"\n",
    "    tokens = word_tokenize(text)\n",
    "    lemma = WordNetLemmatizer()\n",
    "    def clean(word):\n",
    "        if not word.isalpha() or len(word) < 3:\n",
    "            return False\n",
    "        if word.lower() in stopwords.words(\"english\"):\n",
    "            return False\n",
    "        return True\n",
    "    tokens = \" \".join(str(x) for x in \\\n",
    "        [lemma.lemmatize(\\\n",
    "            lemma.lemmatize(word.lower(),pos=\"v\")\\\n",
    "            ,pos=\"n\") for word in tokens if clean(word)]\\\n",
    "        )\n",
    "    return tokens\n",
    "#--------------------------------------------------"
   ]
  },
  {
   "cell_type": "code",
   "execution_count": 184,
   "id": "e369e551",
   "metadata": {},
   "outputs": [],
   "source": [
    "#tststr = can19_sub.selftext.sample().to_string()\n",
    "#print(tststr)\n",
    "#clean_text(tststr)\n",
    "can19_sub.text = can19_sub.text.map(clean_text)\n",
    "pol19_sub.text = pol19_sub.text.map(clean_text)\n",
    "con19_sub.text = con19_sub.text.map(clean_text)\n",
    "lib19_sub.text = lib19_sub.text.map(clean_text)"
   ]
  },
  {
   "cell_type": "code",
   "execution_count": 189,
   "id": "363a3fb8",
   "metadata": {},
   "outputs": [
    {
     "data": {
      "text/html": [
       "<div>\n",
       "<style scoped>\n",
       "    .dataframe tbody tr th:only-of-type {\n",
       "        vertical-align: middle;\n",
       "    }\n",
       "\n",
       "    .dataframe tbody tr th {\n",
       "        vertical-align: top;\n",
       "    }\n",
       "\n",
       "    .dataframe thead th {\n",
       "        text-align: right;\n",
       "    }\n",
       "</style>\n",
       "<table border=\"1\" class=\"dataframe\">\n",
       "  <thead>\n",
       "    <tr style=\"text-align: right;\">\n",
       "      <th></th>\n",
       "      <th>index</th>\n",
       "      <th>author</th>\n",
       "      <th>created_utc</th>\n",
       "      <th>num_comments</th>\n",
       "      <th>score</th>\n",
       "      <th>domain</th>\n",
       "      <th>locked</th>\n",
       "      <th>subreddit</th>\n",
       "      <th>text</th>\n",
       "    </tr>\n",
       "  </thead>\n",
       "  <tbody>\n",
       "    <tr>\n",
       "      <th>162</th>\n",
       "      <td>1021</td>\n",
       "      <td>isarealboy13</td>\n",
       "      <td>2019-01-21</td>\n",
       "      <td>28</td>\n",
       "      <td>7</td>\n",
       "      <td>self.canada</td>\n",
       "      <td>False</td>\n",
       "      <td>canada</td>\n",
       "      <td>buddy usa want visit halifax get duo three year ago advice read lot place may deny entry remember ever even ask passport show suggestion</td>\n",
       "    </tr>\n",
       "  </tbody>\n",
       "</table>\n",
       "</div>"
      ],
      "text/plain": [
       "     index        author created_utc  num_comments  score       domain  \\\n",
       "162   1021  isarealboy13  2019-01-21            28      7  self.canada   \n",
       "\n",
       "     locked subreddit  \\\n",
       "162   False    canada   \n",
       "\n",
       "                                                                                                                                         text  \n",
       "162  buddy usa want visit halifax get duo three year ago advice read lot place may deny entry remember ever even ask passport show suggestion  "
      ]
     },
     "execution_count": 189,
     "metadata": {},
     "output_type": "execute_result"
    }
   ],
   "source": [
    "can19_sub.sample(1)"
   ]
  },
  {
   "cell_type": "code",
   "execution_count": 140,
   "id": "a3360a55",
   "metadata": {},
   "outputs": [
    {
     "data": {
      "text/plain": [
       "'5750    I had my appt this morning and it was the quickest thing ever. The officer literally verified my information (address, place of employment) and sent me on my way. I wasn’t even asked why I was interested in a NEXUS, wasn’t asked where I travel or how often...and wasn’t explained at all how to use it. I was in and out in less than 5 minutes! I also made zero contact with a CBSA officer, only CBP. It was easy but kind of left me hanging at the same time. I should have asked questions I guess'"
      ]
     },
     "execution_count": 140,
     "metadata": {},
     "output_type": "execute_result"
    }
   ],
   "source": []
  },
  {
   "cell_type": "code",
   "execution_count": 205,
   "id": "7f7de3b6",
   "metadata": {},
   "outputs": [
    {
     "data": {
      "text/plain": [
       "count     2147.000000\n",
       "mean       150.029809\n",
       "std        980.261269\n",
       "min          0.000000\n",
       "25%          0.000000\n",
       "50%          5.000000\n",
       "75%         20.000000\n",
       "max      19879.000000\n",
       "Name: score, dtype: float64"
      ]
     },
     "execution_count": 205,
     "metadata": {},
     "output_type": "execute_result"
    },
    {
     "data": {
      "image/png": "[encoded data removed]",
      "text/plain": [
       "<Figure size 432x288 with 1 Axes>"
      ]
     },
     "metadata": {
      "needs_background": "light"
     },
     "output_type": "display_data"
    }
   ],
   "source": [
    "score = can19_sub.score\n",
    "score[score!=0].hist()\n",
    "score.describe()"
   ]
  },
  {
   "cell_type": "code",
   "execution_count": 204,
   "id": "b471c1ac",
   "metadata": {},
   "outputs": [
    {
     "ename": "NameError",
     "evalue": "name 'median' is not defined",
     "output_type": "error",
     "traceback": [
      "\u001b[0;31m---------------------------------------------------------------------------\u001b[0m",
      "\u001b[0;31mNameError\u001b[0m                                 Traceback (most recent call last)",
      "\u001b[0;32m/tmp/ipykernel_494/1998120477.py\u001b[0m in \u001b[0;36m<module>\u001b[0;34m\u001b[0m\n\u001b[0;32m----> 1\u001b[0;31m \u001b[0mmedian\u001b[0m\u001b[0;34m(\u001b[0m\u001b[0mscore\u001b[0m\u001b[0;34m[\u001b[0m\u001b[0mscore\u001b[0m\u001b[0;34m!=\u001b[0m\u001b[0;36m0\u001b[0m\u001b[0;34m]\u001b[0m\u001b[0;34m)\u001b[0m\u001b[0;34m\u001b[0m\u001b[0;34m\u001b[0m\u001b[0m\n\u001b[0m",
      "\u001b[0;31mNameError\u001b[0m: name 'median' is not defined"
     ]
    }
   ],
   "source": []
  },
  {
   "cell_type": "code",
   "execution_count": null,
   "id": "36219fb7",
   "metadata": {},
   "outputs": [],
   "source": []
  },
  {
   "cell_type": "code",
   "execution_count": 215,
   "id": "7bf76417",
   "metadata": {},
   "outputs": [],
   "source": [
    "import string"
   ]
  },
  {
   "cell_type": "code",
   "execution_count": null,
   "id": "a78b9184",
   "metadata": {},
   "outputs": [],
   "source": []
  },
  {
   "cell_type": "code",
   "execution_count": 219,
   "id": "3ac263bd",
   "metadata": {},
   "outputs": [],
   "source": [
    "\n",
    "subreddit_list = [\"twoxchromosomes\",\"Showerthoughts\"]"
   ]
  },
  {
   "cell_type": "code",
   "execution_count": 218,
   "id": "71e46387",
   "metadata": {
    "scrolled": true
   },
   "outputs": [
    {
     "data": {
      "text/plain": [
       "<map at 0x7fda9d681b50>"
      ]
     },
     "execution_count": 218,
     "metadata": {},
     "output_type": "execute_result"
    }
   ],
   "source": [
    "map(str.lower,subreddit_list)"
   ]
  },
  {
   "cell_type": "code",
   "execution_count": 222,
   "id": "3b562969",
   "metadata": {},
   "outputs": [
    {
     "data": {
      "text/plain": [
       "['twoxchromosomes', 'showerthoughts']"
      ]
     },
     "execution_count": 222,
     "metadata": {},
     "output_type": "execute_result"
    }
   ],
   "source": []
  },
  {
   "cell_type": "code",
   "execution_count": null,
   "id": "aa1eda57",
   "metadata": {},
   "outputs": [],
   "source": [
    "str(\"212\")"
   ]
  },
  {
   "cell_type": "code",
   "execution_count": null,
   "id": "cdb16495",
   "metadata": {},
   "outputs": [],
   "source": []
  },
  {
   "cell_type": "code",
   "execution_count": null,
   "id": "641f7252",
   "metadata": {},
   "outputs": [],
   "source": [
    "d={}\n",
    "for x in range(1,10):\n",
    "    d[x] = data\n",
    "   # d[x].summary()\n",
    "for t in d.values():\n",
    "    print(t.columns)"
   ]
  },
  {
   "cell_type": "code",
   "execution_count": null,
   "id": "eb5f852e",
   "metadata": {},
   "outputs": [],
   "source": [
    "d[\"3\"]"
   ]
  },
  {
   "cell_type": "code",
   "execution_count": null,
   "id": "1310f2fb",
   "metadata": {},
   "outputs": [],
   "source": [
    "data.extra=0"
   ]
  },
  {
   "cell_type": "code",
   "execution_count": null,
   "id": "6f64c230",
   "metadata": {},
   "outputs": [],
   "source": [
    "data"
   ]
  },
  {
   "cell_type": "code",
   "execution_count": null,
   "id": "c745c492",
   "metadata": {},
   "outputs": [],
   "source": []
  }
 ],
 "metadata": {
  "kernelspec": {
   "display_name": "Python 3 (ipykernel)",
   "language": "python",
   "name": "python3"
  },
  "language_info": {
   "codemirror_mode": {
    "name": "ipython",
    "version": 3
   },
   "file_extension": ".py",
   "mimetype": "text/x-python",
   "name": "python",
   "nbconvert_exporter": "python",
   "pygments_lexer": "ipython3",
   "version": "3.8.10"
  }
 },
 "nbformat": 4,
 "nbformat_minor": 5
}
