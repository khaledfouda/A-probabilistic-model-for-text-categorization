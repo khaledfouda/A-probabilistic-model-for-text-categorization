{
 "cells": [
  {
   "cell_type": "code",
   "execution_count": 1,
   "id": "8762ee86",
   "metadata": {},
   "outputs": [],
   "source": [
    "import pandas as pd\n",
    "import ujson\n",
    "import json\n",
    "pd.options.display.max_colwidth = 5000\n",
    "import matplotlib"
   ]
  },
  {
   "cell_type": "code",
   "execution_count": 2,
   "id": "9cb3c92c",
   "metadata": {},
   "outputs": [
    {
     "name": "stdout",
     "output_type": "stream",
     "text": [
      "                index                                                       \\\n",
      "                count          mean           std   min      50%       max   \n",
      "class                                                                        \n",
      "nonpolitical  14804.0   7282.288503   8386.425392   0.0   5001.0   41450.0   \n",
      "political       885.0  43950.302825  47488.106523  40.0  16476.0  139049.0   \n",
      "test           2147.0   7482.789474   4476.914083   1.0   7538.0   17225.0   \n",
      "\n",
      "             num_comments                                                  \\\n",
      "                    count         mean          std   min    50%      max   \n",
      "class                                                                       \n",
      "nonpolitical      14804.0   143.823021   457.592274  15.0   26.0  16639.0   \n",
      "political           885.0  3414.674576  7093.978640  15.0  177.0  52183.0   \n",
      "test               2147.0    71.351653   204.972232  15.0   31.0   6441.0   \n",
      "\n",
      "                score                                                   \n",
      "                count         mean           std  min    50%       max  \n",
      "class                                                                   \n",
      "nonpolitical  14804.0  2477.163402   9079.175103  0.0   40.0  188884.0  \n",
      "political       885.0  6136.267797  15175.657072  0.0  305.0  145581.0  \n",
      "test           2147.0   150.029809    980.261269  0.0    5.0   19879.0  \n"
     ]
    }
   ],
   "source": [
    "subreddit_list = ['canada', 'liberal', 'conservative','politics',\\\n",
    "\"twoxchromosomes\",\"showerthoughts\",\"tifu\"]\n",
    "political = ['liberal', 'conservative','politics']\n",
    "nonpolitical = [\"twoxchromosomes\",\"showerthoughts\",\"tifu\"]\n",
    "# Read the feather files\n",
    "data = pd.DataFrame()\n",
    "for sub in subreddit_list:\n",
    "    rf = pd.read_feather('../data/feather_files/RS_2019_'+sub+'_df.feather')\n",
    "    if sub in political:\n",
    "        rf['class'] = 'political'\n",
    "    elif sub in nonpolitical:\n",
    "        rf['class'] = 'nonpolitical'\n",
    "    elif sub == 'canada':\n",
    "        rf['class'] = 'test'\n",
    "    else:\n",
    "        rf['class'] = 'Unkown'\n",
    "    data = pd.concat((data,rf))\n",
    "\n",
    "# Removing posts with less than 10 characters in the body.\n",
    "data = data[(data.selftext.astype(str).str.len()>10)].reset_index()\n",
    "print(data.groupby('class').describe(percentiles=[.5]))\n",
    "\n",
    "# combining titles with the post body. \n",
    "data['text'] = data.title + \" \" + data.selftext\n",
    "# deleting the previous two columns.\n",
    "data.drop(columns=[\"title\",\"selftext\"],inplace=True)"
   ]
  },
  {
   "cell_type": "code",
   "execution_count": 3,
   "id": "a4e52316",
   "metadata": {},
   "outputs": [],
   "source": [
    "from nltk import sent_tokenize, word_tokenize\n",
    "from nltk.corpus import stopwords\n",
    "from nltk import WordNetLemmatizer\n",
    "import random\n",
    "import swifter"
   ]
  },
  {
   "cell_type": "code",
   "execution_count": null,
   "id": "90e7fed8",
   "metadata": {},
   "outputs": [
    {
     "data": {
      "application/vnd.jupyter.widget-view+json": {
       "model_id": "95e255d996a34db9885fc5385f098fe9",
       "version_major": 2,
       "version_minor": 0
      },
      "text/plain": [
       "Dask Apply:   0%|          | 0/16 [00:00<?, ?it/s]"
      ]
     },
     "metadata": {},
     "output_type": "display_data"
    }
   ],
   "source": [
    "def clean_text(text):\n",
    "    \"\"\"\n",
    "    Input : text\n",
    "    output : cleaned text\n",
    "    process:\n",
    "        1.Remove non-alphabitical words\n",
    "        2.remove words of less than 3 characters\n",
    "        3.Remove stopwords\n",
    "        4.Transform words to lower characters\n",
    "        4.lemmatize the text - First verbs then nouns\n",
    "        * Steps are performed in that order.\n",
    "    \"\"\"\n",
    "    tokens = word_tokenize(text)\n",
    "    lemma = WordNetLemmatizer()\n",
    "    def clean(word):\n",
    "        if not word.isalpha() or len(word) < 3:\n",
    "            return False\n",
    "        if word.lower() in stopwords.words(\"english\"):\n",
    "            return False\n",
    "        return True\n",
    "    tokens = \" \".join(str(x) for x in \\\n",
    "        [lemma.lemmatize(\\\n",
    "            lemma.lemmatize(word.lower(),pos=\"v\")\\\n",
    "            ,pos=\"n\") for word in tokens if clean(word)]\\\n",
    "        )\n",
    "    return tokens\n",
    "#--------------------------------------------------\n",
    "data.text = data.text.swifter.allow_dask_on_strings(enable=True).apply(clean_text)"
   ]
  },
  {
   "cell_type": "code",
   "execution_count": null,
   "id": "700484b9",
   "metadata": {},
   "outputs": [],
   "source": [
    "data.reset_index().drop(columns=['index']).to_feather('../data/feather_files/data2019clean.feather')"
   ]
  },
  {
   "cell_type": "code",
   "execution_count": null,
   "id": "775bcfec",
   "metadata": {},
   "outputs": [],
   "source": []
  },
  {
   "cell_type": "code",
   "execution_count": null,
   "id": "890b695a",
   "metadata": {},
   "outputs": [],
   "source": []
  },
  {
   "cell_type": "code",
   "execution_count": null,
   "id": "693c7196",
   "metadata": {},
   "outputs": [],
   "source": []
  },
  {
   "cell_type": "code",
   "execution_count": null,
   "id": "e369e551",
   "metadata": {},
   "outputs": [],
   "source": []
  },
  {
   "cell_type": "code",
   "execution_count": null,
   "id": "363a3fb8",
   "metadata": {},
   "outputs": [],
   "source": []
  },
  {
   "cell_type": "code",
   "execution_count": null,
   "id": "a3360a55",
   "metadata": {},
   "outputs": [],
   "source": []
  },
  {
   "cell_type": "code",
   "execution_count": null,
   "id": "7f7de3b6",
   "metadata": {},
   "outputs": [],
   "source": []
  },
  {
   "cell_type": "code",
   "execution_count": null,
   "id": "b471c1ac",
   "metadata": {},
   "outputs": [],
   "source": []
  },
  {
   "cell_type": "code",
   "execution_count": null,
   "id": "36219fb7",
   "metadata": {},
   "outputs": [],
   "source": []
  },
  {
   "cell_type": "code",
   "execution_count": null,
   "id": "7bf76417",
   "metadata": {},
   "outputs": [],
   "source": []
  },
  {
   "cell_type": "code",
   "execution_count": null,
   "id": "a78b9184",
   "metadata": {},
   "outputs": [],
   "source": []
  },
  {
   "cell_type": "code",
   "execution_count": null,
   "id": "3ac263bd",
   "metadata": {},
   "outputs": [],
   "source": []
  },
  {
   "cell_type": "code",
   "execution_count": null,
   "id": "71e46387",
   "metadata": {
    "scrolled": true
   },
   "outputs": [],
   "source": []
  },
  {
   "cell_type": "code",
   "execution_count": null,
   "id": "3b562969",
   "metadata": {},
   "outputs": [],
   "source": []
  },
  {
   "cell_type": "code",
   "execution_count": null,
   "id": "aa1eda57",
   "metadata": {},
   "outputs": [],
   "source": []
  },
  {
   "cell_type": "code",
   "execution_count": null,
   "id": "cdb16495",
   "metadata": {},
   "outputs": [],
   "source": []
  },
  {
   "cell_type": "code",
   "execution_count": null,
   "id": "641f7252",
   "metadata": {},
   "outputs": [],
   "source": []
  },
  {
   "cell_type": "code",
   "execution_count": null,
   "id": "eb5f852e",
   "metadata": {},
   "outputs": [],
   "source": []
  },
  {
   "cell_type": "code",
   "execution_count": null,
   "id": "1310f2fb",
   "metadata": {},
   "outputs": [],
   "source": []
  },
  {
   "cell_type": "code",
   "execution_count": null,
   "id": "6f64c230",
   "metadata": {},
   "outputs": [],
   "source": []
  },
  {
   "cell_type": "code",
   "execution_count": null,
   "id": "c745c492",
   "metadata": {},
   "outputs": [],
   "source": []
  }
 ],
 "metadata": {
  "kernelspec": {
   "display_name": "Python 3 (ipykernel)",
   "language": "python",
   "name": "python3"
  },
  "language_info": {
   "codemirror_mode": {
    "name": "ipython",
    "version": 3
   },
   "file_extension": ".py",
   "mimetype": "text/x-python",
   "name": "python",
   "nbconvert_exporter": "python",
   "pygments_lexer": "ipython3",
   "version": "3.8.10"
  }
 },
 "nbformat": 4,
 "nbformat_minor": 5
}
