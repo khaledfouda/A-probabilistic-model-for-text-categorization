{
 "cells": [
  {
   "cell_type": "code",
   "execution_count": null,
   "id": "8762ee86",
   "metadata": {},
   "outputs": [],
   "source": [
    "import pandas as pd\n",
    "import ujson\n",
    "import json"
   ]
  },
  {
   "cell_type": "code",
   "execution_count": null,
   "id": "90e7fed8",
   "metadata": {},
   "outputs": [],
   "source": []
  },
  {
   "cell_type": "code",
   "execution_count": null,
   "id": "700484b9",
   "metadata": {},
   "outputs": [],
   "source": []
  },
  {
   "cell_type": "code",
   "execution_count": null,
   "id": "890b695a",
   "metadata": {},
   "outputs": [],
   "source": []
  },
  {
   "cell_type": "code",
   "execution_count": null,
   "id": "693c7196",
   "metadata": {},
   "outputs": [],
   "source": [
    "\n",
    "import zstandard\n",
    "import os\n",
    "import json\n",
    "import sys\n",
    "from datetime import datetime\n",
    "import logging.handlers"
   ]
  },
  {
   "cell_type": "code",
   "execution_count": null,
   "id": "e369e551",
   "metadata": {},
   "outputs": [],
   "source": [
    "with open('../data/RS_2016-01.zst','rb') as f:\n",
    "    data = f.read()\n"
   ]
  },
  {
   "cell_type": "code",
   "execution_count": null,
   "id": "363a3fb8",
   "metadata": {},
   "outputs": [],
   "source": [
    "dctx = zstd.ZstdDecompressor()"
   ]
  },
  {
   "cell_type": "code",
   "execution_count": null,
   "id": "a3360a55",
   "metadata": {},
   "outputs": [],
   "source": [
    "decompressed = dctx.decompress(data)"
   ]
  },
  {
   "cell_type": "code",
   "execution_count": null,
   "id": "7f7de3b6",
   "metadata": {},
   "outputs": [],
   "source": [
    "\n",
    "log = logging.getLogger(\"bot\")\n",
    "log.setLevel(logging.DEBUG)\n",
    "log.addHandler(logging.StreamHandler())\n",
    "\n",
    "def read_lines_zst(file_name):\n",
    "\twith open(file_name, 'rb') as file_handle:\n",
    "\t\tbuffer = ''\n",
    "\t\treader = zstandard.ZstdDecompressor(max_window_size=2**31).stream_reader(file_handle)\n",
    "\t\twhile True:\n",
    "\t\t\tchunk = reader.read(2**27).decode()\n",
    "\t\t\tif not chunk:\n",
    "\t\t\t\tbreak\n",
    "\t\t\tlines = (buffer + chunk).split(\"\\n\")\n",
    "\n",
    "\t\t\tfor line in lines[:-1]:\n",
    "\t\t\t\tyield line, file_handle.tell()\n",
    "\n",
    "\t\t\tbuffer = lines[-1]\n",
    "\t\treader.close()\n"
   ]
  },
  {
   "cell_type": "code",
   "execution_count": null,
   "id": "b471c1ac",
   "metadata": {},
   "outputs": [],
   "source": [
    "file_path = '../data/RS_2016-01.zst'\n",
    "out_path = '../data/RS_out_test.json'\n",
    "file_size = os.stat(file_path).st_size\n",
    "file_lines = 0\n",
    "file_bytes_processed = 0\n",
    "created = None\n",
    "field = \"subreddit\"\n",
    "value = \"canada\"\n",
    "beginflag = True\n",
    "bad_lines = 0\n",
    "try:\n",
    "    with open(out_path, 'w') as outfile:\n",
    "        outfile.write('[')\n",
    "        for line, file_bytes_processed in read_lines_zst(file_path):\n",
    "            try:\n",
    "                obj = json.loads(line)\n",
    "                created = datetime.utcfromtimestamp(int(obj['created_utc']))\n",
    "                temp = obj[field] == value\n",
    "                #obj['selftext'] = ''\n",
    "                #obj['thumbnail'] = ''\n",
    "                #obj['url'] = ''\n",
    "                if obj[field] == value:\n",
    "                    if beginflag:\n",
    "                        beginflag = False\n",
    "                    else:\n",
    "                        outfile.write(',')\n",
    "                    json.dump(obj, outfile, indent=2)\n",
    "            except (KeyError, json.JSONDecodeError) as err:\n",
    "                bad_lines += 1\n",
    "            file_lines += 1\n",
    "            if file_lines % 100000 == 0:\n",
    "                break\n",
    "                log.info(f\"{created.strftime('%Y-%m-%d %H:%M:%S')} : {file_lines:,} : {bad_lines:,} : {(file_bytes_processed / file_size) * 100:.0f}%\")\n",
    "        outfile.write(']')\n",
    "except Exception as err:\n",
    "    log.info(err)\n",
    "\n",
    "log.info(f\"Complete : {file_lines:,} : {bad_lines:,}\")"
   ]
  },
  {
   "cell_type": "code",
   "execution_count": null,
   "id": "36219fb7",
   "metadata": {},
   "outputs": [],
   "source": []
  },
  {
   "cell_type": "code",
   "execution_count": null,
   "id": "7bf76417",
   "metadata": {},
   "outputs": [],
   "source": []
  },
  {
   "cell_type": "code",
   "execution_count": null,
   "id": "a78b9184",
   "metadata": {},
   "outputs": [],
   "source": []
  },
  {
   "cell_type": "code",
   "execution_count": null,
   "id": "3ac263bd",
   "metadata": {},
   "outputs": [],
   "source": [
    "\n"
   ]
  },
  {
   "cell_type": "code",
   "execution_count": null,
   "id": "71e46387",
   "metadata": {
    "scrolled": true
   },
   "outputs": [],
   "source": []
  },
  {
   "cell_type": "code",
   "execution_count": null,
   "id": "3b562969",
   "metadata": {},
   "outputs": [],
   "source": [
    "data = pd.read_json('../data/processed_new/RS_2016-01canada.json')\n",
    "keeped_cols = ['author', 'created_utc', 'title', 'num_comments',\n",
    "              'score', 'ups', 'domain', 'selftext', 'locked', 'subreddit']\n",
    "data = data[keeped_cols]\n",
    "data.created_utc = pd.to_datetime(data.created_utc, unit='s').dt.date\n",
    "data = data.loc[data.num_comments>=15]\n",
    "data.head()"
   ]
  },
  {
   "cell_type": "code",
   "execution_count": null,
   "id": "aa1eda57",
   "metadata": {},
   "outputs": [],
   "source": [
    "str(\"212\")"
   ]
  },
  {
   "cell_type": "code",
   "execution_count": null,
   "id": "cdb16495",
   "metadata": {},
   "outputs": [],
   "source": [
    "data = pd.read_feather('../data/feather_files/RS_2016canadadf.feather')"
   ]
  },
  {
   "cell_type": "code",
   "execution_count": null,
   "id": "641f7252",
   "metadata": {},
   "outputs": [],
   "source": [
    "d={}\n",
    "for x in range(1,10):\n",
    "    d[x] = data\n",
    "   # d[x].summary()\n",
    "for t in d.values():\n",
    "    print(t.columns)"
   ]
  },
  {
   "cell_type": "code",
   "execution_count": null,
   "id": "eb5f852e",
   "metadata": {},
   "outputs": [],
   "source": [
    "d[\"3\"]"
   ]
  },
  {
   "cell_type": "code",
   "execution_count": null,
   "id": "1310f2fb",
   "metadata": {},
   "outputs": [],
   "source": [
    "data.extra=0"
   ]
  },
  {
   "cell_type": "code",
   "execution_count": null,
   "id": "6f64c230",
   "metadata": {},
   "outputs": [],
   "source": [
    "data"
   ]
  },
  {
   "cell_type": "code",
   "execution_count": null,
   "id": "c745c492",
   "metadata": {},
   "outputs": [],
   "source": []
  }
 ],
 "metadata": {
  "kernelspec": {
   "display_name": "Python 3 (ipykernel)",
   "language": "python",
   "name": "python3"
  },
  "language_info": {
   "codemirror_mode": {
    "name": "ipython",
    "version": 3
   },
   "file_extension": ".py",
   "mimetype": "text/x-python",
   "name": "python",
   "nbconvert_exporter": "python",
   "pygments_lexer": "ipython3",
   "version": "3.8.10"
  }
 },
 "nbformat": 4,
 "nbformat_minor": 5
}
