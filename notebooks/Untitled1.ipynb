{
 "cells": [
  {
   "cell_type": "code",
   "execution_count": 2,
   "id": "df0afc3c-4283-44fe-beaf-6bb8aacf1c62",
   "metadata": {},
   "outputs": [],
   "source": [
    "import pandas as pd\n",
    "import sys\n",
    "sys.path.append('../scripts/')\n",
    "from prototypical_fit import Proto"
   ]
  },
  {
   "cell_type": "code",
   "execution_count": 2,
   "id": "c06793c8-116a-4069-a20b-f23ef47580ce",
   "metadata": {},
   "outputs": [],
   "source": [
    "test = pd.read_feather('../data/feather_files/splits/test.feather')"
   ]
  },
  {
   "cell_type": "code",
   "execution_count": 3,
   "id": "9e68ce6d-961f-482a-9608-143d4027e5c3",
   "metadata": {},
   "outputs": [
    {
     "name": "stderr",
     "output_type": "stream",
     "text": [
      "######################################################################################\n"
     ]
    }
   ],
   "source": [
    "proto = Proto(\"reddit\", k=1000, log_to_file=True)"
   ]
  },
  {
   "cell_type": "code",
   "execution_count": 4,
   "id": "95b1e2c6-6c87-4c8a-86a1-6e484cdb0720",
   "metadata": {
    "collapsed": true,
    "jupyter": {
     "outputs_hidden": true
    },
    "tags": []
   },
   "outputs": [
    {
     "name": "stderr",
     "output_type": "stream",
     "text": [
      "*-*-*-*-*-*-*-*-*-*-*-*-*-*-*-*-*-*-*-*-*-*-*-*-*-*-*-*-*-*-*-*-*-*-*-*-*-*-*-*-\n",
      "PREDICTING DATA\n",
      "Reading data\n",
      "Starting prediction\n",
      "A test data sample\n",
      "+-------+--------------------------------------------------------------------------------------------------+\n",
      "|       | X                                                                                                |\n",
      "|-------+--------------------------------------------------------------------------------------------------|\n",
      "| 24810 | rare  tropical depression cristobal  central canada                                              |\n",
      "| 19723 | official seek  reassure canadian  health care system  ready  deal  surge  coronavirus case  need |\n",
      "| 21985 | quebec   summer festival  cancel                                                                 |\n",
      "+-------+--------------------------------------------------------------------------------------------------+\n",
      "Word Cloud\n",
      "Test data\n",
      "Total number of words is 332602\n",
      "Number of distinct words is 15191\n",
      "+--------------------+\n",
      "| Most common 15 words |\n",
      "+--------------------+\n",
      "|       reddit       |\n",
      "+--------------------+\n",
      "|       canada       |\n",
      "|      canadian      |\n",
      "|      trudeau       |\n",
      "|        news        |\n",
      "|       would        |\n",
      "|        make        |\n",
      "|        like        |\n",
      "|        want        |\n",
      "|       people       |\n",
      "|     government     |\n",
      "|        year        |\n",
      "|      ontario       |\n",
      "|        call        |\n",
      "|      liberal       |\n",
      "|        take        |\n",
      "+--------------------+\n",
      "\\begin{tabular}{c}\n",
      "reddit \\\\\n",
      "canada \\\\\n",
      "canadian \\\\\n",
      "trudeau \\\\\n",
      "news \\\\\n",
      "would \\\\\n",
      "make \\\\\n",
      "like \\\\\n",
      "want \\\\\n",
      "people \\\\\n",
      "government \\\\\n",
      "year \\\\\n",
      "ontario \\\\\n",
      "call \\\\\n",
      "liberal \\\\\n",
      "take \\\\\n",
      "\\end{tabular}\n",
      "Computing validation set predictions\n",
      "The class prob of a post is the sum of class|word probabilities for all proto word in class and in post\n"
     ]
    },
    {
     "data": {
      "application/vnd.jupyter.widget-view+json": {
       "model_id": "78be206232c24344a26b9ed91b94a217",
       "version_major": 2,
       "version_minor": 0
      },
      "text/plain": [
       "Pandas Apply:   0%|          | 0/32261 [00:00<?, ?it/s]"
      ]
     },
     "metadata": {},
     "output_type": "display_data"
    },
    {
     "name": "stderr",
     "output_type": "stream",
     "text": [
      "saving to disk\n",
      "saved as pred_1000\n",
      "+-------+---------+----------+----------+----------------+\n",
      "|       |    sc_1 |     sc_0 | Y_pred   |   nonresp_flag |\n",
      "|-------+---------+----------+----------+----------------|\n",
      "| 30275 | 144.301 |  7.91264 | True     |              0 |\n",
      "|  3084 | 426.322 | 30.1737  | True     |              0 |\n",
      "|  5772 |   0     |  0       | False    |              1 |\n",
      "+-------+---------+----------+----------+----------------+\n"
     ]
    }
   ],
   "source": [
    "proto.predict('../data/feather_files/splits/test.feather',\n",
    "             '../data/feather_files/REDDIT_proto_CWP_k=900.feather')"
   ]
  },
  {
   "cell_type": "code",
   "execution_count": 5,
   "id": "a098c405-7c01-406a-ad57-64da739a2eed",
   "metadata": {},
   "outputs": [
    {
     "data": {
      "text/plain": [
       "'../data/feather_files/re'"
      ]
     },
     "execution_count": 5,
     "metadata": {},
     "output_type": "execute_result"
    }
   ],
   "source": [
    "'../data/feather_files/re'"
   ]
  },
  {
   "cell_type": "code",
   "execution_count": 7,
   "id": "987b3918-efc6-421c-aa97-87732680e1df",
   "metadata": {},
   "outputs": [],
   "source": [
    "pred = proto.pred.copy()"
   ]
  },
  {
   "cell_type": "code",
   "execution_count": 10,
   "id": "98045ee8-a0e5-4470-8f78-f066f2fa768e",
   "metadata": {},
   "outputs": [],
   "source": [
    "pred['X'] = test['X']"
   ]
  },
  {
   "cell_type": "code",
   "execution_count": 12,
   "id": "4198486d-7b62-4417-b8ef-b9845841d1d7",
   "metadata": {},
   "outputs": [
    {
     "data": {
      "application/vnd.jupyter.widget-view+json": {
       "model_id": "e799a26cc8804c5a9d802eb261f6f670",
       "version_major": 2,
       "version_minor": 0
      },
      "text/plain": [
       "Pandas Apply:   0%|          | 0/32261 [00:00<?, ?it/s]"
      ]
     },
     "metadata": {},
     "output_type": "display_data"
    }
   ],
   "source": [
    "pred['Y_pred'] = pred.Y_pred.swifter.apply(lambda d: 'Politicsl' if d else 'non-political')"
   ]
  },
  {
   "cell_type": "code",
   "execution_count": 14,
   "id": "062dbbc0-fd0b-481a-9e17-84dfbd31b21e",
   "metadata": {},
   "outputs": [],
   "source": [
    "pred.to_csv('../data/etc/canada_preds.csv')"
   ]
  },
  {
   "cell_type": "code",
   "execution_count": 16,
   "id": "0b09951b-a08a-4d71-8040-068cf0018212",
   "metadata": {},
   "outputs": [
    {
     "data": {
      "text/plain": [
       "0    0.712067\n",
       "1    0.287933\n",
       "Name: nonresp_flag, dtype: float64"
      ]
     },
     "execution_count": 16,
     "metadata": {},
     "output_type": "execute_result"
    }
   ],
   "source": [
    "pred.nonresp_flag.value_counts() / len(pred)"
   ]
  },
  {
   "cell_type": "code",
   "execution_count": 17,
   "id": "aed51214-0650-42a6-9190-50f66e86d262",
   "metadata": {},
   "outputs": [
    {
     "data": {
      "text/plain": [
       "'SS'"
      ]
     },
     "execution_count": 17,
     "metadata": {},
     "output_type": "execute_result"
    }
   ],
   "source": [
    "'ss'.upper()"
   ]
  },
  {
   "cell_type": "code",
   "execution_count": 2,
   "id": "fbe8c67b-d2d9-480b-827c-0659f801778e",
   "metadata": {},
   "outputs": [],
   "source": [
    "proto = pd.read_feather('../data/feather_files/old/proto_1000.feather')"
   ]
  },
  {
   "cell_type": "code",
   "execution_count": 5,
   "id": "668f25ef-3e08-4336-85c8-739eb3874b3a",
   "metadata": {},
   "outputs": [
    {
     "data": {
      "text/plain": [
       "presidential    0.25\n",
       "president       0.25\n",
       "race            0.25\n",
       "Name: 0, dtype: float64"
      ]
     },
     "execution_count": 5,
     "metadata": {},
     "output_type": "execute_result"
    }
   ],
   "source": [
    "proto.loc[0][proto.loc[0]!=0]"
   ]
  },
  {
   "cell_type": "code",
   "execution_count": 8,
   "id": "46f20fbd-1208-45ce-8a9b-1faf1fe3c334",
   "metadata": {},
   "outputs": [],
   "source": [
    "protom = pd.read_feather('../data/feather_files/REDDIT_proto_CWP_k=1000.feather')\n",
    "protot = pd.read_feather('../data/feather_files/old/proto_train_1000.feather')"
   ]
  },
  {
   "cell_type": "code",
   "execution_count": 22,
   "id": "783ea6ab-08ac-4f30-8bd8-2a8b4d13305d",
   "metadata": {},
   "outputs": [
    {
     "data": {
      "text/html": [
       "<div>\n",
       "<style scoped>\n",
       "    .dataframe tbody tr th:only-of-type {\n",
       "        vertical-align: middle;\n",
       "    }\n",
       "\n",
       "    .dataframe tbody tr th {\n",
       "        vertical-align: top;\n",
       "    }\n",
       "\n",
       "    .dataframe thead th {\n",
       "        text-align: right;\n",
       "    }\n",
       "</style>\n",
       "<table border=\"1\" class=\"dataframe\">\n",
       "  <thead>\n",
       "    <tr style=\"text-align: right;\">\n",
       "      <th></th>\n",
       "      <th>tulsi</th>\n",
       "      <th>extremism</th>\n",
       "      <th>centrist</th>\n",
       "      <th>pollster</th>\n",
       "      <th>woodward</th>\n",
       "      <th>lobbyist</th>\n",
       "      <th>parnas</th>\n",
       "      <th>ouster</th>\n",
       "      <th>macron</th>\n",
       "      <th>politico</th>\n",
       "      <th>...</th>\n",
       "      <th>technician</th>\n",
       "      <th>vowel</th>\n",
       "      <th>pooped</th>\n",
       "      <th>sofa</th>\n",
       "      <th>laxative</th>\n",
       "      <th>flashlight</th>\n",
       "      <th>washroom</th>\n",
       "      <th>snore</th>\n",
       "      <th>sophomore</th>\n",
       "      <th>pubes</th>\n",
       "    </tr>\n",
       "  </thead>\n",
       "  <tbody>\n",
       "    <tr>\n",
       "      <th>0</th>\n",
       "      <td>0.0</td>\n",
       "      <td>0.0</td>\n",
       "      <td>0.0</td>\n",
       "      <td>0.0</td>\n",
       "      <td>0.0</td>\n",
       "      <td>0.0</td>\n",
       "      <td>0.0</td>\n",
       "      <td>0.0</td>\n",
       "      <td>0.0</td>\n",
       "      <td>0.0</td>\n",
       "      <td>...</td>\n",
       "      <td>0.0</td>\n",
       "      <td>0.0</td>\n",
       "      <td>0.0</td>\n",
       "      <td>0.0</td>\n",
       "      <td>0.0</td>\n",
       "      <td>0.0</td>\n",
       "      <td>0.0</td>\n",
       "      <td>0.0</td>\n",
       "      <td>0.0</td>\n",
       "      <td>0.0</td>\n",
       "    </tr>\n",
       "    <tr>\n",
       "      <th>1</th>\n",
       "      <td>0.0</td>\n",
       "      <td>0.0</td>\n",
       "      <td>0.0</td>\n",
       "      <td>0.0</td>\n",
       "      <td>0.0</td>\n",
       "      <td>0.0</td>\n",
       "      <td>0.0</td>\n",
       "      <td>0.0</td>\n",
       "      <td>0.0</td>\n",
       "      <td>0.0</td>\n",
       "      <td>...</td>\n",
       "      <td>0.0</td>\n",
       "      <td>0.0</td>\n",
       "      <td>0.0</td>\n",
       "      <td>0.0</td>\n",
       "      <td>0.0</td>\n",
       "      <td>0.0</td>\n",
       "      <td>0.0</td>\n",
       "      <td>0.0</td>\n",
       "      <td>0.0</td>\n",
       "      <td>0.0</td>\n",
       "    </tr>\n",
       "    <tr>\n",
       "      <th>2</th>\n",
       "      <td>0.0</td>\n",
       "      <td>0.0</td>\n",
       "      <td>0.0</td>\n",
       "      <td>0.0</td>\n",
       "      <td>0.0</td>\n",
       "      <td>0.0</td>\n",
       "      <td>0.0</td>\n",
       "      <td>0.0</td>\n",
       "      <td>0.0</td>\n",
       "      <td>0.0</td>\n",
       "      <td>...</td>\n",
       "      <td>0.0</td>\n",
       "      <td>0.0</td>\n",
       "      <td>0.0</td>\n",
       "      <td>0.0</td>\n",
       "      <td>0.0</td>\n",
       "      <td>0.0</td>\n",
       "      <td>0.0</td>\n",
       "      <td>0.0</td>\n",
       "      <td>0.0</td>\n",
       "      <td>0.0</td>\n",
       "    </tr>\n",
       "    <tr>\n",
       "      <th>3</th>\n",
       "      <td>0.0</td>\n",
       "      <td>0.0</td>\n",
       "      <td>0.0</td>\n",
       "      <td>0.0</td>\n",
       "      <td>0.0</td>\n",
       "      <td>0.0</td>\n",
       "      <td>0.0</td>\n",
       "      <td>0.0</td>\n",
       "      <td>0.0</td>\n",
       "      <td>0.0</td>\n",
       "      <td>...</td>\n",
       "      <td>0.0</td>\n",
       "      <td>0.0</td>\n",
       "      <td>0.0</td>\n",
       "      <td>0.0</td>\n",
       "      <td>0.0</td>\n",
       "      <td>0.0</td>\n",
       "      <td>0.0</td>\n",
       "      <td>0.0</td>\n",
       "      <td>0.0</td>\n",
       "      <td>0.0</td>\n",
       "    </tr>\n",
       "    <tr>\n",
       "      <th>4</th>\n",
       "      <td>0.0</td>\n",
       "      <td>0.0</td>\n",
       "      <td>0.0</td>\n",
       "      <td>0.0</td>\n",
       "      <td>0.0</td>\n",
       "      <td>0.0</td>\n",
       "      <td>0.0</td>\n",
       "      <td>0.0</td>\n",
       "      <td>0.0</td>\n",
       "      <td>0.0</td>\n",
       "      <td>...</td>\n",
       "      <td>0.0</td>\n",
       "      <td>0.0</td>\n",
       "      <td>0.0</td>\n",
       "      <td>0.0</td>\n",
       "      <td>0.0</td>\n",
       "      <td>0.0</td>\n",
       "      <td>0.0</td>\n",
       "      <td>0.0</td>\n",
       "      <td>0.0</td>\n",
       "      <td>0.0</td>\n",
       "    </tr>\n",
       "    <tr>\n",
       "      <th>...</th>\n",
       "      <td>...</td>\n",
       "      <td>...</td>\n",
       "      <td>...</td>\n",
       "      <td>...</td>\n",
       "      <td>...</td>\n",
       "      <td>...</td>\n",
       "      <td>...</td>\n",
       "      <td>...</td>\n",
       "      <td>...</td>\n",
       "      <td>...</td>\n",
       "      <td>...</td>\n",
       "      <td>...</td>\n",
       "      <td>...</td>\n",
       "      <td>...</td>\n",
       "      <td>...</td>\n",
       "      <td>...</td>\n",
       "      <td>...</td>\n",
       "      <td>...</td>\n",
       "      <td>...</td>\n",
       "      <td>...</td>\n",
       "      <td>...</td>\n",
       "    </tr>\n",
       "    <tr>\n",
       "      <th>404535</th>\n",
       "      <td>0.0</td>\n",
       "      <td>0.0</td>\n",
       "      <td>0.0</td>\n",
       "      <td>0.0</td>\n",
       "      <td>0.0</td>\n",
       "      <td>0.0</td>\n",
       "      <td>0.0</td>\n",
       "      <td>0.0</td>\n",
       "      <td>0.0</td>\n",
       "      <td>0.0</td>\n",
       "      <td>...</td>\n",
       "      <td>0.0</td>\n",
       "      <td>0.0</td>\n",
       "      <td>0.0</td>\n",
       "      <td>0.0</td>\n",
       "      <td>0.0</td>\n",
       "      <td>0.0</td>\n",
       "      <td>0.0</td>\n",
       "      <td>0.0</td>\n",
       "      <td>0.0</td>\n",
       "      <td>0.0</td>\n",
       "    </tr>\n",
       "    <tr>\n",
       "      <th>404536</th>\n",
       "      <td>0.0</td>\n",
       "      <td>0.0</td>\n",
       "      <td>0.0</td>\n",
       "      <td>0.0</td>\n",
       "      <td>0.0</td>\n",
       "      <td>0.0</td>\n",
       "      <td>0.0</td>\n",
       "      <td>0.0</td>\n",
       "      <td>0.0</td>\n",
       "      <td>0.0</td>\n",
       "      <td>...</td>\n",
       "      <td>0.0</td>\n",
       "      <td>0.0</td>\n",
       "      <td>0.0</td>\n",
       "      <td>0.0</td>\n",
       "      <td>0.0</td>\n",
       "      <td>0.0</td>\n",
       "      <td>0.0</td>\n",
       "      <td>0.0</td>\n",
       "      <td>0.0</td>\n",
       "      <td>0.0</td>\n",
       "    </tr>\n",
       "    <tr>\n",
       "      <th>404537</th>\n",
       "      <td>0.0</td>\n",
       "      <td>0.0</td>\n",
       "      <td>0.0</td>\n",
       "      <td>0.0</td>\n",
       "      <td>0.0</td>\n",
       "      <td>0.0</td>\n",
       "      <td>0.0</td>\n",
       "      <td>0.0</td>\n",
       "      <td>0.0</td>\n",
       "      <td>0.0</td>\n",
       "      <td>...</td>\n",
       "      <td>0.0</td>\n",
       "      <td>0.0</td>\n",
       "      <td>0.0</td>\n",
       "      <td>0.0</td>\n",
       "      <td>0.0</td>\n",
       "      <td>0.0</td>\n",
       "      <td>0.0</td>\n",
       "      <td>0.0</td>\n",
       "      <td>0.0</td>\n",
       "      <td>0.0</td>\n",
       "    </tr>\n",
       "    <tr>\n",
       "      <th>404538</th>\n",
       "      <td>0.0</td>\n",
       "      <td>0.0</td>\n",
       "      <td>0.0</td>\n",
       "      <td>0.0</td>\n",
       "      <td>0.0</td>\n",
       "      <td>0.0</td>\n",
       "      <td>0.0</td>\n",
       "      <td>0.0</td>\n",
       "      <td>0.0</td>\n",
       "      <td>0.0</td>\n",
       "      <td>...</td>\n",
       "      <td>0.0</td>\n",
       "      <td>0.0</td>\n",
       "      <td>0.0</td>\n",
       "      <td>0.0</td>\n",
       "      <td>0.0</td>\n",
       "      <td>0.0</td>\n",
       "      <td>0.0</td>\n",
       "      <td>0.0</td>\n",
       "      <td>0.0</td>\n",
       "      <td>0.0</td>\n",
       "    </tr>\n",
       "    <tr>\n",
       "      <th>404539</th>\n",
       "      <td>0.0</td>\n",
       "      <td>0.0</td>\n",
       "      <td>0.0</td>\n",
       "      <td>0.0</td>\n",
       "      <td>0.0</td>\n",
       "      <td>0.0</td>\n",
       "      <td>0.0</td>\n",
       "      <td>0.0</td>\n",
       "      <td>0.0</td>\n",
       "      <td>0.0</td>\n",
       "      <td>...</td>\n",
       "      <td>0.0</td>\n",
       "      <td>0.0</td>\n",
       "      <td>0.0</td>\n",
       "      <td>0.0</td>\n",
       "      <td>0.0</td>\n",
       "      <td>0.0</td>\n",
       "      <td>0.0</td>\n",
       "      <td>0.0</td>\n",
       "      <td>0.0</td>\n",
       "      <td>0.0</td>\n",
       "    </tr>\n",
       "  </tbody>\n",
       "</table>\n",
       "<p>404540 rows × 2000 columns</p>\n",
       "</div>"
      ],
      "text/plain": [
       "        tulsi  extremism  centrist  pollster  woodward  lobbyist  parnas  \\\n",
       "0         0.0        0.0       0.0       0.0       0.0       0.0     0.0   \n",
       "1         0.0        0.0       0.0       0.0       0.0       0.0     0.0   \n",
       "2         0.0        0.0       0.0       0.0       0.0       0.0     0.0   \n",
       "3         0.0        0.0       0.0       0.0       0.0       0.0     0.0   \n",
       "4         0.0        0.0       0.0       0.0       0.0       0.0     0.0   \n",
       "...       ...        ...       ...       ...       ...       ...     ...   \n",
       "404535    0.0        0.0       0.0       0.0       0.0       0.0     0.0   \n",
       "404536    0.0        0.0       0.0       0.0       0.0       0.0     0.0   \n",
       "404537    0.0        0.0       0.0       0.0       0.0       0.0     0.0   \n",
       "404538    0.0        0.0       0.0       0.0       0.0       0.0     0.0   \n",
       "404539    0.0        0.0       0.0       0.0       0.0       0.0     0.0   \n",
       "\n",
       "        ouster  macron  politico  ...  technician  vowel  pooped  sofa  \\\n",
       "0          0.0     0.0       0.0  ...         0.0    0.0     0.0   0.0   \n",
       "1          0.0     0.0       0.0  ...         0.0    0.0     0.0   0.0   \n",
       "2          0.0     0.0       0.0  ...         0.0    0.0     0.0   0.0   \n",
       "3          0.0     0.0       0.0  ...         0.0    0.0     0.0   0.0   \n",
       "4          0.0     0.0       0.0  ...         0.0    0.0     0.0   0.0   \n",
       "...        ...     ...       ...  ...         ...    ...     ...   ...   \n",
       "404535     0.0     0.0       0.0  ...         0.0    0.0     0.0   0.0   \n",
       "404536     0.0     0.0       0.0  ...         0.0    0.0     0.0   0.0   \n",
       "404537     0.0     0.0       0.0  ...         0.0    0.0     0.0   0.0   \n",
       "404538     0.0     0.0       0.0  ...         0.0    0.0     0.0   0.0   \n",
       "404539     0.0     0.0       0.0  ...         0.0    0.0     0.0   0.0   \n",
       "\n",
       "        laxative  flashlight  washroom  snore  sophomore  pubes  \n",
       "0            0.0         0.0       0.0    0.0        0.0    0.0  \n",
       "1            0.0         0.0       0.0    0.0        0.0    0.0  \n",
       "2            0.0         0.0       0.0    0.0        0.0    0.0  \n",
       "3            0.0         0.0       0.0    0.0        0.0    0.0  \n",
       "4            0.0         0.0       0.0    0.0        0.0    0.0  \n",
       "...          ...         ...       ...    ...        ...    ...  \n",
       "404535       0.0         0.0       0.0    0.0        0.0    0.0  \n",
       "404536       0.0         0.0       0.0    0.0        0.0    0.0  \n",
       "404537       0.0         0.0       0.0    0.0        0.0    0.0  \n",
       "404538       0.0         0.0       0.0    0.0        0.0    0.0  \n",
       "404539       0.0         0.0       0.0    0.0        0.0    0.0  \n",
       "\n",
       "[404540 rows x 2000 columns]"
      ]
     },
     "execution_count": 22,
     "metadata": {},
     "output_type": "execute_result"
    }
   ],
   "source": [
    "proto"
   ]
  },
  {
   "cell_type": "code",
   "execution_count": 36,
   "id": "ed10deb0-b119-42a2-9586-d7611ec3bca1",
   "metadata": {},
   "outputs": [],
   "source": [
    "tok = pd.read_feather('../data/feather_files/splits/train_1000.feather')"
   ]
  },
  {
   "cell_type": "code",
   "execution_count": 41,
   "id": "54c6835f-56fb-43ea-9845-9bd72749bc93",
   "metadata": {},
   "outputs": [
    {
     "data": {
      "text/plain": [
       "Counter({'biden': 1, 'drop': 1, 'presidential': 1, 'race': 1})"
      ]
     },
     "execution_count": 41,
     "metadata": {},
     "output_type": "execute_result"
    }
   ],
   "source": [
    "X = tok.X\n",
    "\n",
    "countt = collections.Counter(' '.join(X).split())\n",
    "R = X.str.split().map(collections.Counter)\n",
    "\n",
    "R[0]"
   ]
  },
  {
   "cell_type": "code",
   "execution_count": 52,
   "id": "1cc9b7fc-d248-4618-9cb9-b3c0e6a8a0d1",
   "metadata": {},
   "outputs": [],
   "source": [
    "o = R.map(lambda d: pd.Series([d[max(d)],max(d)]))\n"
   ]
  },
  {
   "cell_type": "code",
   "execution_count": 53,
   "id": "1974298b-c393-4dc0-b5f3-7d76368724a5",
   "metadata": {},
   "outputs": [
    {
     "data": {
      "text/html": [
       "<div>\n",
       "<style scoped>\n",
       "    .dataframe tbody tr th:only-of-type {\n",
       "        vertical-align: middle;\n",
       "    }\n",
       "\n",
       "    .dataframe tbody tr th {\n",
       "        vertical-align: top;\n",
       "    }\n",
       "\n",
       "    .dataframe thead th {\n",
       "        text-align: right;\n",
       "    }\n",
       "</style>\n",
       "<table border=\"1\" class=\"dataframe\">\n",
       "  <thead>\n",
       "    <tr style=\"text-align: right;\">\n",
       "      <th></th>\n",
       "      <th>X</th>\n",
       "    </tr>\n",
       "  </thead>\n",
       "  <tbody>\n",
       "    <tr>\n",
       "      <th>0</th>\n",
       "      <td>0       1\n",
       "1    race\n",
       "dtype: object</td>\n",
       "    </tr>\n",
       "    <tr>\n",
       "      <th>1</th>\n",
       "      <td>0        1\n",
       "1    spend\n",
       "dtype: object</td>\n",
       "    </tr>\n",
       "    <tr>\n",
       "      <th>2</th>\n",
       "      <td>0          1\n",
       "1    process\n",
       "dtype: object</td>\n",
       "    </tr>\n",
       "    <tr>\n",
       "      <th>3</th>\n",
       "      <td>0          1\n",
       "1    suicide\n",
       "dtype: object</td>\n",
       "    </tr>\n",
       "    <tr>\n",
       "      <th>4</th>\n",
       "      <td>0       1\n",
       "1    vote\n",
       "dtype: object</td>\n",
       "    </tr>\n",
       "    <tr>\n",
       "      <th>...</th>\n",
       "      <td>...</td>\n",
       "    </tr>\n",
       "    <tr>\n",
       "      <th>404535</th>\n",
       "      <td>0       1\n",
       "1    wake\n",
       "dtype: object</td>\n",
       "    </tr>\n",
       "    <tr>\n",
       "      <th>404536</th>\n",
       "      <td>0             1\n",
       "1    scientific\n",
       "dtype: object</td>\n",
       "    </tr>\n",
       "    <tr>\n",
       "      <th>404537</th>\n",
       "      <td>0        1\n",
       "1    woman\n",
       "dtype: object</td>\n",
       "    </tr>\n",
       "    <tr>\n",
       "      <th>404538</th>\n",
       "      <td>0       1\n",
       "1    test\n",
       "dtype: object</td>\n",
       "    </tr>\n",
       "    <tr>\n",
       "      <th>404539</th>\n",
       "      <td>0         1\n",
       "1    toward\n",
       "dtype: object</td>\n",
       "    </tr>\n",
       "  </tbody>\n",
       "</table>\n",
       "<p>404540 rows × 1 columns</p>\n",
       "</div>"
      ],
      "text/plain": [
       "                                                    X\n",
       "0                   0       1\n",
       "1    race\n",
       "dtype: object\n",
       "1                 0        1\n",
       "1    spend\n",
       "dtype: object\n",
       "2             0          1\n",
       "1    process\n",
       "dtype: object\n",
       "3             0          1\n",
       "1    suicide\n",
       "dtype: object\n",
       "4                   0       1\n",
       "1    vote\n",
       "dtype: object\n",
       "...                                               ...\n",
       "404535              0       1\n",
       "1    wake\n",
       "dtype: object\n",
       "404536  0             1\n",
       "1    scientific\n",
       "dtype: object\n",
       "404537            0        1\n",
       "1    woman\n",
       "dtype: object\n",
       "404538              0       1\n",
       "1    test\n",
       "dtype: object\n",
       "404539          0         1\n",
       "1    toward\n",
       "dtype: object\n",
       "\n",
       "[404540 rows x 1 columns]"
      ]
     },
     "execution_count": 53,
     "metadata": {},
     "output_type": "execute_result"
    }
   ],
   "source": [
    "pd.DataFrame(o)"
   ]
  },
  {
   "cell_type": "code",
   "execution_count": 7,
   "id": "fcafe814-4a40-43c6-b332-c4dec0a8bd09",
   "metadata": {},
   "outputs": [],
   "source": [
    "import collections"
   ]
  },
  {
   "cell_type": "code",
   "execution_count": 1,
   "id": "dcc78e3b-b9c2-4be9-b334-19fcd5f7c4b6",
   "metadata": {},
   "outputs": [],
   "source": [
    "from sklearn.preprocessing import StandardScaler"
   ]
  },
  {
   "cell_type": "code",
   "execution_count": 47,
   "id": "eb81bb7f-e5c2-4efd-98f4-01e9c91ee1c9",
   "metadata": {},
   "outputs": [],
   "source": [
    "import numpy as np"
   ]
  },
  {
   "cell_type": "code",
   "execution_count": null,
   "id": "32cf14fe-3543-4043-b2e3-dc2fb6d5361f",
   "metadata": {},
   "outputs": [],
   "source": []
  }
 ],
 "metadata": {
  "kernelspec": {
   "display_name": "Python 3 (ipykernel)",
   "language": "python",
   "name": "python3"
  },
  "language_info": {
   "codemirror_mode": {
    "name": "ipython",
    "version": 3
   },
   "file_extension": ".py",
   "mimetype": "text/x-python",
   "name": "python",
   "nbconvert_exporter": "python",
   "pygments_lexer": "ipython3",
   "version": "3.9.7"
  }
 },
 "nbformat": 4,
 "nbformat_minor": 5
}
