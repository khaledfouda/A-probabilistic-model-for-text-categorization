{
 "cells": [
  {
   "cell_type": "code",
   "execution_count": 1,
   "id": "df0afc3c-4283-44fe-beaf-6bb8aacf1c62",
   "metadata": {},
   "outputs": [],
   "source": [
    "import pandas as pd\n",
    "import sys\n",
    "sys.path.append('../scripts/')\n",
    "from prototypical_fit import Proto"
   ]
  },
  {
   "cell_type": "code",
   "execution_count": 2,
   "id": "c06793c8-116a-4069-a20b-f23ef47580ce",
   "metadata": {},
   "outputs": [],
   "source": [
    "test = pd.read_feather('../data/feather_files/splits/test.feather')"
   ]
  },
  {
   "cell_type": "code",
   "execution_count": 3,
   "id": "9e68ce6d-961f-482a-9608-143d4027e5c3",
   "metadata": {},
   "outputs": [
    {
     "name": "stderr",
     "output_type": "stream",
     "text": [
      "######################################################################################\n"
     ]
    }
   ],
   "source": [
    "proto = Proto(\"reddit\", k=1000, log_to_file=True)"
   ]
  },
  {
   "cell_type": "code",
   "execution_count": 4,
   "id": "95b1e2c6-6c87-4c8a-86a1-6e484cdb0720",
   "metadata": {},
   "outputs": [
    {
     "name": "stderr",
     "output_type": "stream",
     "text": [
      "*-*-*-*-*-*-*-*-*-*-*-*-*-*-*-*-*-*-*-*-*-*-*-*-*-*-*-*-*-*-*-*-*-*-*-*-*-*-*-*-\n",
      "PREDICTING DATA\n",
      "Reading data\n",
      "Starting prediction\n",
      "A test data sample\n",
      "+-------+--------------------------------------------------------------------------------------------------+\n",
      "|       | X                                                                                                |\n",
      "|-------+--------------------------------------------------------------------------------------------------|\n",
      "| 24810 | rare  tropical depression cristobal  central canada                                              |\n",
      "| 19723 | official seek  reassure canadian  health care system  ready  deal  surge  coronavirus case  need |\n",
      "| 21985 | quebec   summer festival  cancel                                                                 |\n",
      "+-------+--------------------------------------------------------------------------------------------------+\n",
      "Word Cloud\n",
      "Test data\n",
      "Total number of words is 332602\n",
      "Number of distinct words is 15191\n",
      "+--------------------+\n",
      "| Most common 15 words |\n",
      "+--------------------+\n",
      "|       reddit       |\n",
      "+--------------------+\n",
      "|       canada       |\n",
      "|      canadian      |\n",
      "|      trudeau       |\n",
      "|        news        |\n",
      "|       would        |\n",
      "|        make        |\n",
      "|        like        |\n",
      "|        want        |\n",
      "|       people       |\n",
      "|     government     |\n",
      "|        year        |\n",
      "|      ontario       |\n",
      "|        call        |\n",
      "|      liberal       |\n",
      "|        take        |\n",
      "+--------------------+\n",
      "\\begin{tabular}{c}\n",
      "reddit \\\\\n",
      "canada \\\\\n",
      "canadian \\\\\n",
      "trudeau \\\\\n",
      "news \\\\\n",
      "would \\\\\n",
      "make \\\\\n",
      "like \\\\\n",
      "want \\\\\n",
      "people \\\\\n",
      "government \\\\\n",
      "year \\\\\n",
      "ontario \\\\\n",
      "call \\\\\n",
      "liberal \\\\\n",
      "take \\\\\n",
      "\\end{tabular}\n",
      "Computing validation set predictions\n",
      "The class prob of a post is the sum of class|word probabilities for all proto word in class and in post\n"
     ]
    },
    {
     "data": {
      "application/vnd.jupyter.widget-view+json": {
       "model_id": "78be206232c24344a26b9ed91b94a217",
       "version_major": 2,
       "version_minor": 0
      },
      "text/plain": [
       "Pandas Apply:   0%|          | 0/32261 [00:00<?, ?it/s]"
      ]
     },
     "metadata": {},
     "output_type": "display_data"
    },
    {
     "name": "stderr",
     "output_type": "stream",
     "text": [
      "saving to disk\n",
      "saved as pred_1000\n",
      "+-------+---------+----------+----------+----------------+\n",
      "|       |    sc_1 |     sc_0 | Y_pred   |   nonresp_flag |\n",
      "|-------+---------+----------+----------+----------------|\n",
      "| 30275 | 144.301 |  7.91264 | True     |              0 |\n",
      "|  3084 | 426.322 | 30.1737  | True     |              0 |\n",
      "|  5772 |   0     |  0       | False    |              1 |\n",
      "+-------+---------+----------+----------+----------------+\n"
     ]
    }
   ],
   "source": [
    "proto.predict('../data/feather_files/splits/test.feather',\n",
    "             '../data/feather_files/REDDIT_proto_CWP_k=900.feather')"
   ]
  },
  {
   "cell_type": "code",
   "execution_count": 5,
   "id": "a098c405-7c01-406a-ad57-64da739a2eed",
   "metadata": {},
   "outputs": [
    {
     "data": {
      "text/plain": [
       "'../data/feather_files/re'"
      ]
     },
     "execution_count": 5,
     "metadata": {},
     "output_type": "execute_result"
    }
   ],
   "source": [
    "'../data/feather_files/re'"
   ]
  },
  {
   "cell_type": "code",
   "execution_count": 7,
   "id": "987b3918-efc6-421c-aa97-87732680e1df",
   "metadata": {},
   "outputs": [],
   "source": [
    "pred = proto.pred.copy()"
   ]
  },
  {
   "cell_type": "code",
   "execution_count": 10,
   "id": "98045ee8-a0e5-4470-8f78-f066f2fa768e",
   "metadata": {},
   "outputs": [],
   "source": [
    "pred['X'] = test['X']"
   ]
  },
  {
   "cell_type": "code",
   "execution_count": 12,
   "id": "4198486d-7b62-4417-b8ef-b9845841d1d7",
   "metadata": {},
   "outputs": [
    {
     "data": {
      "application/vnd.jupyter.widget-view+json": {
       "model_id": "e799a26cc8804c5a9d802eb261f6f670",
       "version_major": 2,
       "version_minor": 0
      },
      "text/plain": [
       "Pandas Apply:   0%|          | 0/32261 [00:00<?, ?it/s]"
      ]
     },
     "metadata": {},
     "output_type": "display_data"
    }
   ],
   "source": [
    "pred['Y_pred'] = pred.Y_pred.swifter.apply(lambda d: 'Politicsl' if d else 'non-political')"
   ]
  },
  {
   "cell_type": "code",
   "execution_count": 14,
   "id": "062dbbc0-fd0b-481a-9e17-84dfbd31b21e",
   "metadata": {},
   "outputs": [],
   "source": [
    "pred.to_csv('../data/etc/canada_preds.csv')"
   ]
  },
  {
   "cell_type": "code",
   "execution_count": 16,
   "id": "0b09951b-a08a-4d71-8040-068cf0018212",
   "metadata": {},
   "outputs": [
    {
     "data": {
      "text/plain": [
       "0    0.712067\n",
       "1    0.287933\n",
       "Name: nonresp_flag, dtype: float64"
      ]
     },
     "execution_count": 16,
     "metadata": {},
     "output_type": "execute_result"
    }
   ],
   "source": [
    "pred.nonresp_flag.value_counts() / len(pred)"
   ]
  },
  {
   "cell_type": "code",
   "execution_count": 17,
   "id": "aed51214-0650-42a6-9190-50f66e86d262",
   "metadata": {},
   "outputs": [
    {
     "data": {
      "text/plain": [
       "'SS'"
      ]
     },
     "execution_count": 17,
     "metadata": {},
     "output_type": "execute_result"
    }
   ],
   "source": [
    "'ss'.upper()"
   ]
  },
  {
   "cell_type": "code",
   "execution_count": null,
   "id": "fbe8c67b-d2d9-480b-827c-0659f801778e",
   "metadata": {},
   "outputs": [],
   "source": []
  }
 ],
 "metadata": {
  "kernelspec": {
   "display_name": "Python 3 (ipykernel)",
   "language": "python",
   "name": "python3"
  },
  "language_info": {
   "codemirror_mode": {
    "name": "ipython",
    "version": 3
   },
   "file_extension": ".py",
   "mimetype": "text/x-python",
   "name": "python",
   "nbconvert_exporter": "python",
   "pygments_lexer": "ipython3",
   "version": "3.9.7"
  }
 },
 "nbformat": 4,
 "nbformat_minor": 5
}
