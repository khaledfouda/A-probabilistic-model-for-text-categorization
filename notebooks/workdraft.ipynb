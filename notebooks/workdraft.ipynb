{
 "cells": [
  {
   "cell_type": "code",
   "execution_count": 53,
   "id": "9e42d80d",
   "metadata": {},
   "outputs": [],
   "source": [
    "from IPython.core.interactiveshell import InteractiveShell\n",
    "InteractiveShell.ast_node_interactivity = \"all\""
   ]
  },
  {
   "cell_type": "code",
   "execution_count": 42,
   "id": "8762ee86",
   "metadata": {},
   "outputs": [],
   "source": [
    "import pandas as pd\n",
    "import ujson\n",
    "import json\n",
    "pd.options.display.max_colwidth = 5000\n",
    "import matplotlib\n",
    "from nltk import sent_tokenize, word_tokenize\n",
    "from nltk.corpus import stopwords\n",
    "from nltk import WordNetLemmatizer\n",
    "import random\n",
    "import swifter\n",
    "import collections"
   ]
  },
  {
   "cell_type": "code",
   "execution_count": null,
   "id": "d8591e8a",
   "metadata": {},
   "outputs": [],
   "source": [
    "data = pd.read_feather('../data/feather_files/data2019clean.feather')"
   ]
  },
  {
   "cell_type": "markdown",
   "id": "57186be8",
   "metadata": {},
   "source": [
    "# Step 2"
   ]
  },
  {
   "cell_type": "code",
   "execution_count": 76,
   "id": "90e7fed8",
   "metadata": {},
   "outputs": [],
   "source": [
    "#a\n",
    "pol = data.query(\"tclass == 'political'\").reset_index().text\n",
    "nonpol = data.query(\"tclass == 'nonpolitical'\").reset_index().text"
   ]
  },
  {
   "cell_type": "code",
   "execution_count": 77,
   "id": "700484b9",
   "metadata": {},
   "outputs": [],
   "source": [
    "tokens_p = word_tokenize(' '.join(pol))\n",
    "tokens_np = word_tokenize(' '.join(nonpol)) "
   ]
  },
  {
   "cell_type": "code",
   "execution_count": 84,
   "id": "775bcfec",
   "metadata": {},
   "outputs": [
    {
     "name": "stdout",
     "output_type": "stream",
     "text": [
      "Number of words are 152212 and 2081118\n",
      "Number of distinct words is 9386 and 31519\n"
     ]
    },
    {
     "data": {
      "text/plain": [
       "[('http', 8198), ('trump', 3934), ('house', 1528)]"
      ]
     },
     "execution_count": 84,
     "metadata": {},
     "output_type": "execute_result"
    },
    {
     "data": {
      "text/plain": [
       "[('get', 31903), ('like', 19674), ('say', 18876)]"
      ]
     },
     "execution_count": 84,
     "metadata": {},
     "output_type": "execute_result"
    }
   ],
   "source": [
    "print(f\"Number of words are {len(tokens_p)} and {len(tokens_np)}\")\n",
    "\n",
    "counter_p = collections.Counter(tokens_p)\n",
    "counter_np = collections.Counter(tokens_np)\n",
    "print(f\"Number of distinct words is {len(counter_p)} and {len(counter_np)}\")\n",
    "counter_p.most_common(3)\n",
    "counter_np.most_common(3)\n"
   ]
  },
  {
   "cell_type": "code",
   "execution_count": 115,
   "id": "890b695a",
   "metadata": {},
   "outputs": [
    {
     "data": {
      "application/vnd.jupyter.widget-view+json": {
       "model_id": "cd9daf961e764b1da14aadc0be5b79d4",
       "version_major": 2,
       "version_minor": 0
      },
      "text/plain": [
       "Pandas Apply:   0%|          | 0/9386 [00:00<?, ?it/s]"
      ]
     },
     "metadata": {},
     "output_type": "display_data"
    },
    {
     "data": {
      "application/vnd.jupyter.widget-view+json": {
       "model_id": "5caeed4a6b4c450cb0c7a46bea1eac90",
       "version_major": 2,
       "version_minor": 0
      },
      "text/plain": [
       "Pandas Apply:   0%|          | 0/31519 [00:00<?, ?it/s]"
      ]
     },
     "metadata": {},
     "output_type": "display_data"
    },
    {
     "name": "stdout",
     "output_type": "stream",
     "text": [
      "Number of distinct words is 33600\n",
      "After removing low occurancies, we have 8957 wordds\n"
     ]
    }
   ],
   "source": [
    "worddict = pd.DataFrame({'word':counter_p.keys(),\n",
    "                        'pol_occ': counter_p.values()})\n",
    "worddict['nonpol_occ'] = worddict.word.swifter.apply(lambda x: counter_np.get(x,0))\n",
    "temp = pd.DataFrame({'word':counter_np.keys(),\n",
    "                'nonpol_occ': counter_np.values()})\n",
    "temp['pol_occ'] = temp.word.swifter.apply(lambda x: counter_p.get(x,0))\n",
    "worddict = pd.concat((worddict,temp)).drop_duplicates('word')\\\n",
    ".sort_values(by='pol_occ',ascending=False)\n",
    "print(f\"Number of distinct words is {len(worddict)}\")\n",
    "worddict = worddict.query('pol_occ >= 10 or nonpol_occ >= 10').reset_index(drop=True)\n",
    "print(f\"After removing low occurancies, we have {len(worddict)} wordds\")"
   ]
  },
  {
   "cell_type": "code",
   "execution_count": 116,
   "id": "693c7196",
   "metadata": {},
   "outputs": [],
   "source": [
    "worddict['ssum'] = worddict.pol_occ + worddict.nonpol_occ\n",
    "worddict['sc_n'] = worddict.pol_occ / worddict.ssum\n",
    "worddict['sc_np'] = worddict.nonpol_occ / worddict.ssum"
   ]
  },
  {
   "cell_type": "code",
   "execution_count": 121,
   "id": "e369e551",
   "metadata": {},
   "outputs": [],
   "source": [
    "temp = worddict.sort_values(by='sc_n', ascending=False)[1:200]\n",
    "worddict = worddict.sort_values(by='sc_np', ascending=False)[1:200]\n",
    "worddict = pd.concat((temp, worddict))"
   ]
  },
  {
   "cell_type": "code",
   "execution_count": 126,
   "id": "363a3fb8",
   "metadata": {},
   "outputs": [
    {
     "data": {
      "text/html": [
       "<div>\n",
       "<style scoped>\n",
       "    .dataframe tbody tr th:only-of-type {\n",
       "        vertical-align: middle;\n",
       "    }\n",
       "\n",
       "    .dataframe tbody tr th {\n",
       "        vertical-align: top;\n",
       "    }\n",
       "\n",
       "    .dataframe thead th {\n",
       "        text-align: right;\n",
       "    }\n",
       "</style>\n",
       "<table border=\"1\" class=\"dataframe\">\n",
       "  <thead>\n",
       "    <tr style=\"text-align: right;\">\n",
       "      <th></th>\n",
       "      <th>word</th>\n",
       "      <th>pol_occ</th>\n",
       "      <th>nonpol_occ</th>\n",
       "      <th>ssum</th>\n",
       "      <th>sc_n</th>\n",
       "      <th>sc_np</th>\n",
       "    </tr>\n",
       "  </thead>\n",
       "  <tbody>\n",
       "    <tr>\n",
       "      <th>1638</th>\n",
       "      <td>caucus</td>\n",
       "      <td>14</td>\n",
       "      <td>0</td>\n",
       "      <td>14</td>\n",
       "      <td>1.0</td>\n",
       "      <td>0.0</td>\n",
       "    </tr>\n",
       "    <tr>\n",
       "      <th>1320</th>\n",
       "      <td>mccawley</td>\n",
       "      <td>18</td>\n",
       "      <td>0</td>\n",
       "      <td>18</td>\n",
       "      <td>1.0</td>\n",
       "      <td>0.0</td>\n",
       "    </tr>\n",
       "    <tr>\n",
       "      <th>1216</th>\n",
       "      <td>maddow</td>\n",
       "      <td>20</td>\n",
       "      <td>0</td>\n",
       "      <td>20</td>\n",
       "      <td>1.0</td>\n",
       "      <td>0.0</td>\n",
       "    </tr>\n",
       "    <tr>\n",
       "      <th>1441</th>\n",
       "      <td>gubernatorial</td>\n",
       "      <td>16</td>\n",
       "      <td>0</td>\n",
       "      <td>16</td>\n",
       "      <td>1.0</td>\n",
       "      <td>0.0</td>\n",
       "    </tr>\n",
       "    <tr>\n",
       "      <th>1217</th>\n",
       "      <td>coalition</td>\n",
       "      <td>20</td>\n",
       "      <td>0</td>\n",
       "      <td>20</td>\n",
       "      <td>1.0</td>\n",
       "      <td>0.0</td>\n",
       "    </tr>\n",
       "    <tr>\n",
       "      <th>...</th>\n",
       "      <td>...</td>\n",
       "      <td>...</td>\n",
       "      <td>...</td>\n",
       "      <td>...</td>\n",
       "      <td>...</td>\n",
       "      <td>...</td>\n",
       "    </tr>\n",
       "    <tr>\n",
       "      <th>6713</th>\n",
       "      <td>mph</td>\n",
       "      <td>0</td>\n",
       "      <td>17</td>\n",
       "      <td>17</td>\n",
       "      <td>0.0</td>\n",
       "      <td>1.0</td>\n",
       "    </tr>\n",
       "    <tr>\n",
       "      <th>6727</th>\n",
       "      <td>ahold</td>\n",
       "      <td>0</td>\n",
       "      <td>11</td>\n",
       "      <td>11</td>\n",
       "      <td>0.0</td>\n",
       "      <td>1.0</td>\n",
       "    </tr>\n",
       "    <tr>\n",
       "      <th>6726</th>\n",
       "      <td>oblige</td>\n",
       "      <td>0</td>\n",
       "      <td>93</td>\n",
       "      <td>93</td>\n",
       "      <td>0.0</td>\n",
       "      <td>1.0</td>\n",
       "    </tr>\n",
       "    <tr>\n",
       "      <th>6725</th>\n",
       "      <td>skinny</td>\n",
       "      <td>0</td>\n",
       "      <td>96</td>\n",
       "      <td>96</td>\n",
       "      <td>0.0</td>\n",
       "      <td>1.0</td>\n",
       "    </tr>\n",
       "    <tr>\n",
       "      <th>6938</th>\n",
       "      <td>acid</td>\n",
       "      <td>0</td>\n",
       "      <td>130</td>\n",
       "      <td>130</td>\n",
       "      <td>0.0</td>\n",
       "      <td>1.0</td>\n",
       "    </tr>\n",
       "  </tbody>\n",
       "</table>\n",
       "<p>398 rows × 6 columns</p>\n",
       "</div>"
      ],
      "text/plain": [
       "               word  pol_occ  nonpol_occ  ssum  sc_n  sc_np\n",
       "1638         caucus       14           0    14   1.0    0.0\n",
       "1320       mccawley       18           0    18   1.0    0.0\n",
       "1216         maddow       20           0    20   1.0    0.0\n",
       "1441  gubernatorial       16           0    16   1.0    0.0\n",
       "1217      coalition       20           0    20   1.0    0.0\n",
       "...             ...      ...         ...   ...   ...    ...\n",
       "6713            mph        0          17    17   0.0    1.0\n",
       "6727          ahold        0          11    11   0.0    1.0\n",
       "6726         oblige        0          93    93   0.0    1.0\n",
       "6725         skinny        0          96    96   0.0    1.0\n",
       "6938           acid        0         130   130   0.0    1.0\n",
       "\n",
       "[398 rows x 6 columns]"
      ]
     },
     "execution_count": 126,
     "metadata": {},
     "output_type": "execute_result"
    }
   ],
   "source": [
    "worddict.drop_duplicates('word').sort_values(by='sc_n', ascending=False).reset_index()"
   ]
  },
  {
   "cell_type": "code",
   "execution_count": 125,
   "id": "a3360a55",
   "metadata": {},
   "outputs": [
    {
     "data": {
      "text/html": [
       "<div>\n",
       "<style scoped>\n",
       "    .dataframe tbody tr th:only-of-type {\n",
       "        vertical-align: middle;\n",
       "    }\n",
       "\n",
       "    .dataframe tbody tr th {\n",
       "        vertical-align: top;\n",
       "    }\n",
       "\n",
       "    .dataframe thead th {\n",
       "        text-align: right;\n",
       "    }\n",
       "</style>\n",
       "<table border=\"1\" class=\"dataframe\">\n",
       "  <thead>\n",
       "    <tr style=\"text-align: right;\">\n",
       "      <th></th>\n",
       "      <th>word</th>\n",
       "      <th>pol_occ</th>\n",
       "      <th>nonpol_occ</th>\n",
       "      <th>ssum</th>\n",
       "      <th>sc_n</th>\n",
       "      <th>sc_np</th>\n",
       "    </tr>\n",
       "  </thead>\n",
       "  <tbody>\n",
       "    <tr>\n",
       "      <th>1638</th>\n",
       "      <td>caucus</td>\n",
       "      <td>14</td>\n",
       "      <td>0</td>\n",
       "      <td>14</td>\n",
       "      <td>1.0</td>\n",
       "      <td>0.0</td>\n",
       "    </tr>\n",
       "    <tr>\n",
       "      <th>684</th>\n",
       "      <td>cspan</td>\n",
       "      <td>43</td>\n",
       "      <td>0</td>\n",
       "      <td>43</td>\n",
       "      <td>1.0</td>\n",
       "      <td>0.0</td>\n",
       "    </tr>\n",
       "    <tr>\n",
       "      <th>1968</th>\n",
       "      <td>reuters</td>\n",
       "      <td>10</td>\n",
       "      <td>0</td>\n",
       "      <td>10</td>\n",
       "      <td>1.0</td>\n",
       "      <td>0.0</td>\n",
       "    </tr>\n",
       "    <tr>\n",
       "      <th>697</th>\n",
       "      <td>nomination</td>\n",
       "      <td>42</td>\n",
       "      <td>0</td>\n",
       "      <td>42</td>\n",
       "      <td>1.0</td>\n",
       "      <td>0.0</td>\n",
       "    </tr>\n",
       "    <tr>\n",
       "      <th>146</th>\n",
       "      <td>judiciary</td>\n",
       "      <td>183</td>\n",
       "      <td>0</td>\n",
       "      <td>183</td>\n",
       "      <td>1.0</td>\n",
       "      <td>0.0</td>\n",
       "    </tr>\n",
       "    <tr>\n",
       "      <th>...</th>\n",
       "      <td>...</td>\n",
       "      <td>...</td>\n",
       "      <td>...</td>\n",
       "      <td>...</td>\n",
       "      <td>...</td>\n",
       "      <td>...</td>\n",
       "    </tr>\n",
       "    <tr>\n",
       "      <th>6942</th>\n",
       "      <td>altogether</td>\n",
       "      <td>0</td>\n",
       "      <td>23</td>\n",
       "      <td>23</td>\n",
       "      <td>0.0</td>\n",
       "      <td>1.0</td>\n",
       "    </tr>\n",
       "    <tr>\n",
       "      <th>6941</th>\n",
       "      <td>undies</td>\n",
       "      <td>0</td>\n",
       "      <td>66</td>\n",
       "      <td>66</td>\n",
       "      <td>0.0</td>\n",
       "      <td>1.0</td>\n",
       "    </tr>\n",
       "    <tr>\n",
       "      <th>6940</th>\n",
       "      <td>comfy</td>\n",
       "      <td>0</td>\n",
       "      <td>41</td>\n",
       "      <td>41</td>\n",
       "      <td>0.0</td>\n",
       "      <td>1.0</td>\n",
       "    </tr>\n",
       "    <tr>\n",
       "      <th>6939</th>\n",
       "      <td>boric</td>\n",
       "      <td>0</td>\n",
       "      <td>19</td>\n",
       "      <td>19</td>\n",
       "      <td>0.0</td>\n",
       "      <td>1.0</td>\n",
       "    </tr>\n",
       "    <tr>\n",
       "      <th>6938</th>\n",
       "      <td>acid</td>\n",
       "      <td>0</td>\n",
       "      <td>130</td>\n",
       "      <td>130</td>\n",
       "      <td>0.0</td>\n",
       "      <td>1.0</td>\n",
       "    </tr>\n",
       "  </tbody>\n",
       "</table>\n",
       "<p>398 rows × 6 columns</p>\n",
       "</div>"
      ],
      "text/plain": [
       "            word  pol_occ  nonpol_occ  ssum  sc_n  sc_np\n",
       "1638      caucus       14           0    14   1.0    0.0\n",
       "684        cspan       43           0    43   1.0    0.0\n",
       "1968     reuters       10           0    10   1.0    0.0\n",
       "697   nomination       42           0    42   1.0    0.0\n",
       "146    judiciary      183           0   183   1.0    0.0\n",
       "...          ...      ...         ...   ...   ...    ...\n",
       "6942  altogether        0          23    23   0.0    1.0\n",
       "6941      undies        0          66    66   0.0    1.0\n",
       "6940       comfy        0          41    41   0.0    1.0\n",
       "6939       boric        0          19    19   0.0    1.0\n",
       "6938        acid        0         130   130   0.0    1.0\n",
       "\n",
       "[398 rows x 6 columns]"
      ]
     },
     "execution_count": 125,
     "metadata": {},
     "output_type": "execute_result"
    }
   ],
   "source": [
    "worddict"
   ]
  },
  {
   "cell_type": "code",
   "execution_count": null,
   "id": "7f7de3b6",
   "metadata": {},
   "outputs": [],
   "source": []
  },
  {
   "cell_type": "code",
   "execution_count": null,
   "id": "b471c1ac",
   "metadata": {},
   "outputs": [],
   "source": []
  },
  {
   "cell_type": "code",
   "execution_count": null,
   "id": "36219fb7",
   "metadata": {},
   "outputs": [],
   "source": []
  },
  {
   "cell_type": "code",
   "execution_count": null,
   "id": "7bf76417",
   "metadata": {},
   "outputs": [],
   "source": []
  },
  {
   "cell_type": "code",
   "execution_count": null,
   "id": "a78b9184",
   "metadata": {},
   "outputs": [],
   "source": []
  },
  {
   "cell_type": "code",
   "execution_count": null,
   "id": "3ac263bd",
   "metadata": {},
   "outputs": [],
   "source": []
  },
  {
   "cell_type": "code",
   "execution_count": null,
   "id": "71e46387",
   "metadata": {
    "scrolled": true
   },
   "outputs": [],
   "source": []
  },
  {
   "cell_type": "code",
   "execution_count": null,
   "id": "3b562969",
   "metadata": {},
   "outputs": [],
   "source": []
  },
  {
   "cell_type": "code",
   "execution_count": null,
   "id": "aa1eda57",
   "metadata": {},
   "outputs": [],
   "source": []
  },
  {
   "cell_type": "code",
   "execution_count": null,
   "id": "cdb16495",
   "metadata": {},
   "outputs": [],
   "source": []
  },
  {
   "cell_type": "code",
   "execution_count": null,
   "id": "641f7252",
   "metadata": {},
   "outputs": [],
   "source": []
  },
  {
   "cell_type": "code",
   "execution_count": null,
   "id": "eb5f852e",
   "metadata": {},
   "outputs": [],
   "source": []
  },
  {
   "cell_type": "code",
   "execution_count": null,
   "id": "1310f2fb",
   "metadata": {},
   "outputs": [],
   "source": []
  },
  {
   "cell_type": "code",
   "execution_count": null,
   "id": "6f64c230",
   "metadata": {},
   "outputs": [],
   "source": []
  },
  {
   "cell_type": "code",
   "execution_count": null,
   "id": "c745c492",
   "metadata": {},
   "outputs": [],
   "source": []
  }
 ],
 "metadata": {
  "kernelspec": {
   "display_name": "Python 3 (ipykernel)",
   "language": "python",
   "name": "python3"
  },
  "language_info": {
   "codemirror_mode": {
    "name": "ipython",
    "version": 3
   },
   "file_extension": ".py",
   "mimetype": "text/x-python",
   "name": "python",
   "nbconvert_exporter": "python",
   "pygments_lexer": "ipython3",
   "version": "3.8.10"
  }
 },
 "nbformat": 4,
 "nbformat_minor": 5
}
