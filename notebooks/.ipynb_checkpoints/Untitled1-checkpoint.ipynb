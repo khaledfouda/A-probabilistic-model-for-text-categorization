{
 "cells": [
  {
   "cell_type": "code",
   "execution_count": 12,
   "id": "df0afc3c-4283-44fe-beaf-6bb8aacf1c62",
   "metadata": {},
   "outputs": [],
   "source": [
    "import pandas as pd\n",
    "import sys\n",
    "sys.path.append('../scripts/')\n",
    "from prototypical_fit import Proto"
   ]
  },
  {
   "cell_type": "code",
   "execution_count": 2,
   "id": "c06793c8-116a-4069-a20b-f23ef47580ce",
   "metadata": {},
   "outputs": [],
   "source": [
    "test = pd.read_feather('../data/feather_files/splits/test.feather')"
   ]
  },
  {
   "cell_type": "code",
   "execution_count": 13,
   "id": "9e68ce6d-961f-482a-9608-143d4027e5c3",
   "metadata": {},
   "outputs": [
    {
     "name": "stderr",
     "output_type": "stream",
     "text": [
      "######################################################################################\n"
     ]
    }
   ],
   "source": [
    "proto = Proto(\"reddit\", k=1000, log_to_file=True)"
   ]
  },
  {
   "cell_type": "code",
   "execution_count": null,
   "id": "95b1e2c6-6c87-4c8a-86a1-6e484cdb0720",
   "metadata": {},
   "outputs": [],
   "source": [
    "proto.predict('../data/feather_files/splits/test.feather')"
   ]
  },
  {
   "cell_type": "code",
   "execution_count": null,
   "id": "a098c405-7c01-406a-ad57-64da739a2eed",
   "metadata": {},
   "outputs": [],
   "source": []
  },
  {
   "cell_type": "code",
   "execution_count": null,
   "id": "987b3918-efc6-421c-aa97-87732680e1df",
   "metadata": {},
   "outputs": [],
   "source": []
  }
 ],
 "metadata": {
  "kernelspec": {
   "display_name": "Python 3 (ipykernel)",
   "language": "python",
   "name": "python3"
  },
  "language_info": {
   "codemirror_mode": {
    "name": "ipython",
    "version": 3
   },
   "file_extension": ".py",
   "mimetype": "text/x-python",
   "name": "python",
   "nbconvert_exporter": "python",
   "pygments_lexer": "ipython3",
   "version": "3.9.7"
  }
 },
 "nbformat": 4,
 "nbformat_minor": 5
}
