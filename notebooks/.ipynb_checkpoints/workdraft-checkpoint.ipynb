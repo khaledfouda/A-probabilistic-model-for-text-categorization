{
 "cells": [
  {
   "cell_type": "code",
   "execution_count": 53,
   "id": "29554efc",
   "metadata": {},
   "outputs": [],
   "source": [
    "from IPython.core.interactiveshell import InteractiveShell\n",
    "InteractiveShell.ast_node_interactivity = \"all\""
   ]
  },
  {
   "cell_type": "code",
   "execution_count": 42,
   "id": "8762ee86",
   "metadata": {},
   "outputs": [],
   "source": [
    "import pandas as pd\n",
    "import ujson\n",
    "import json\n",
    "pd.options.display.max_colwidth = 5000\n",
    "import matplotlib\n",
    "from nltk import sent_tokenize, word_tokenize\n",
    "from nltk.corpus import stopwords\n",
    "from nltk import WordNetLemmatizer\n",
    "import random\n",
    "import swifter\n",
    "import collections"
   ]
  },
  {
   "cell_type": "code",
   "execution_count": null,
   "id": "ba952251",
   "metadata": {},
   "outputs": [],
   "source": [
    "data = pd.read_feather('../data/feather_files/data2019clean.feather')"
   ]
  },
  {
   "cell_type": "markdown",
   "id": "a61fa8fd",
   "metadata": {},
   "source": [
    "# Step 2"
   ]
  },
  {
   "cell_type": "code",
   "execution_count": 76,
   "id": "90e7fed8",
   "metadata": {},
   "outputs": [],
   "source": [
    "#a\n",
    "pol = data.query(\"tclass == 'political'\").reset_index().text\n",
    "nonpol = data.query(\"tclass == 'nonpolitical'\").reset_index().text"
   ]
  },
  {
   "cell_type": "code",
   "execution_count": 77,
   "id": "700484b9",
   "metadata": {},
   "outputs": [],
   "source": [
    "tokens_p = word_tokenize(' '.join(pol))\n",
    "tokens_np = word_tokenize(' '.join(nonpol)) "
   ]
  },
  {
   "cell_type": "code",
   "execution_count": 84,
   "id": "775bcfec",
   "metadata": {},
   "outputs": [
    {
     "name": "stdout",
     "output_type": "stream",
     "text": [
      "Number of words are 152212 and 2081118\n",
      "Number of distinct words is 9386 and 31519\n"
     ]
    },
    {
     "data": {
      "text/plain": [
       "[('http', 8198), ('trump', 3934), ('house', 1528)]"
      ]
     },
     "execution_count": 84,
     "metadata": {},
     "output_type": "execute_result"
    },
    {
     "data": {
      "text/plain": [
       "[('get', 31903), ('like', 19674), ('say', 18876)]"
      ]
     },
     "execution_count": 84,
     "metadata": {},
     "output_type": "execute_result"
    }
   ],
   "source": [
    "print(f\"Number of words are {len(tokens_p)} and {len(tokens_np)}\")\n",
    "\n",
    "counter_p = collections.Counter(tokens_p)\n",
    "counter_np = collections.Counter(tokens_np)\n",
    "print(f\"Number of distinct words is {len(counter_p)} and {len(counter_np)}\")\n",
    "counter_p.most_common(3)\n",
    "counter_np.most_common(3)\n"
   ]
  },
  {
   "cell_type": "code",
   "execution_count": 102,
   "id": "890b695a",
   "metadata": {},
   "outputs": [
    {
     "data": {
      "application/vnd.jupyter.widget-view+json": {
       "model_id": "e793a2403e2b484fb2fa05177923dde1",
       "version_major": 2,
       "version_minor": 0
      },
      "text/plain": [
       "Pandas Apply:   0%|          | 0/9386 [00:00<?, ?it/s]"
      ]
     },
     "metadata": {},
     "output_type": "display_data"
    },
    {
     "data": {
      "application/vnd.jupyter.widget-view+json": {
       "model_id": "031bcc9266ee49b995036b647b06f16a",
       "version_major": 2,
       "version_minor": 0
      },
      "text/plain": [
       "Pandas Apply:   0%|          | 0/31519 [00:00<?, ?it/s]"
      ]
     },
     "metadata": {},
     "output_type": "display_data"
    },
    {
     "name": "stdout",
     "output_type": "stream",
     "text": [
      "Number of distinct words is 33600\n",
      "After removing low occurancies, we have 8957 wordds\n"
     ]
    }
   ],
   "source": [
    "worddict = pd.DataFrame({'word':counter_p.keys(),\n",
    "                        'pol_occ': counter_p.values()})\n",
    "worddict['nonpol_occ'] = worddict.word.swifter.apply(lambda x: counter_np.get(x,0))\n",
    "temp = pd.DataFrame({'word':counter_np.keys(),\n",
    "                'nonpol_occ': counter_np.values()})\n",
    "temp['pol_occ'] = temp.word.swifter.apply(lambda x: counter_p.get(x,0))\n",
    "worddict = pd.concat((worddict,temp)).drop_duplicates('word')\\\n",
    ".sort_values(by='pol_occ',ascending=False)\n",
    "print(f\"Number of distinct words is {len(worddict)}\")\n",
    "worddict = worddict.query('pol_occ >= 10 or nonpol_occ >= 10').reset_index(drop=True)\n",
    "print(f\"After removing low occurancies, we have {len(worddict)} wordds\")"
   ]
  },
  {
   "cell_type": "code",
   "execution_count": 103,
   "id": "693c7196",
   "metadata": {},
   "outputs": [],
   "source": [
    "worddict['ssum'] = worddict.pol_occ + worddict.nonpol_occ\n",
    "worddict['sc_n'] = worddict.pol_occ / worddict.ssum\n",
    "worddict['sc_np'] = worddict.nonpol_occ / worddict.ssum"
   ]
  },
  {
   "cell_type": "code",
   "execution_count": 104,
   "id": "e369e551",
   "metadata": {},
   "outputs": [
    {
     "data": {
      "text/html": [
       "<div>\n",
       "<style scoped>\n",
       "    .dataframe tbody tr th:only-of-type {\n",
       "        vertical-align: middle;\n",
       "    }\n",
       "\n",
       "    .dataframe tbody tr th {\n",
       "        vertical-align: top;\n",
       "    }\n",
       "\n",
       "    .dataframe thead th {\n",
       "        text-align: right;\n",
       "    }\n",
       "</style>\n",
       "<table border=\"1\" class=\"dataframe\">\n",
       "  <thead>\n",
       "    <tr style=\"text-align: right;\">\n",
       "      <th></th>\n",
       "      <th>word</th>\n",
       "      <th>pol_occ</th>\n",
       "      <th>nonpol_occ</th>\n",
       "      <th>ssum</th>\n",
       "      <th>sc_n</th>\n",
       "      <th>sc_np</th>\n",
       "    </tr>\n",
       "  </thead>\n",
       "  <tbody>\n",
       "    <tr>\n",
       "      <th>0</th>\n",
       "      <td>http</td>\n",
       "      <td>8198</td>\n",
       "      <td>1584</td>\n",
       "      <td>9782</td>\n",
       "      <td>0.838070</td>\n",
       "      <td>0.161930</td>\n",
       "    </tr>\n",
       "    <tr>\n",
       "      <th>1</th>\n",
       "      <td>trump</td>\n",
       "      <td>3934</td>\n",
       "      <td>27</td>\n",
       "      <td>3961</td>\n",
       "      <td>0.993184</td>\n",
       "      <td>0.006816</td>\n",
       "    </tr>\n",
       "    <tr>\n",
       "      <th>2</th>\n",
       "      <td>house</td>\n",
       "      <td>1528</td>\n",
       "      <td>3585</td>\n",
       "      <td>5113</td>\n",
       "      <td>0.298846</td>\n",
       "      <td>0.701154</td>\n",
       "    </tr>\n",
       "    <tr>\n",
       "      <th>3</th>\n",
       "      <td>amp</td>\n",
       "      <td>1147</td>\n",
       "      <td>5537</td>\n",
       "      <td>6684</td>\n",
       "      <td>0.171604</td>\n",
       "      <td>0.828396</td>\n",
       "    </tr>\n",
       "    <tr>\n",
       "      <th>4</th>\n",
       "      <td>impeachment</td>\n",
       "      <td>1129</td>\n",
       "      <td>0</td>\n",
       "      <td>1129</td>\n",
       "      <td>1.000000</td>\n",
       "      <td>0.000000</td>\n",
       "    </tr>\n",
       "    <tr>\n",
       "      <th>...</th>\n",
       "      <td>...</td>\n",
       "      <td>...</td>\n",
       "      <td>...</td>\n",
       "      <td>...</td>\n",
       "      <td>...</td>\n",
       "      <td>...</td>\n",
       "    </tr>\n",
       "    <tr>\n",
       "      <th>8952</th>\n",
       "      <td>chess</td>\n",
       "      <td>0</td>\n",
       "      <td>34</td>\n",
       "      <td>34</td>\n",
       "      <td>0.000000</td>\n",
       "      <td>1.000000</td>\n",
       "    </tr>\n",
       "    <tr>\n",
       "      <th>8953</th>\n",
       "      <td>arrival</td>\n",
       "      <td>0</td>\n",
       "      <td>42</td>\n",
       "      <td>42</td>\n",
       "      <td>0.000000</td>\n",
       "      <td>1.000000</td>\n",
       "    </tr>\n",
       "    <tr>\n",
       "      <th>8954</th>\n",
       "      <td>mosquito</td>\n",
       "      <td>0</td>\n",
       "      <td>25</td>\n",
       "      <td>25</td>\n",
       "      <td>0.000000</td>\n",
       "      <td>1.000000</td>\n",
       "    </tr>\n",
       "    <tr>\n",
       "      <th>8955</th>\n",
       "      <td>clench</td>\n",
       "      <td>0</td>\n",
       "      <td>42</td>\n",
       "      <td>42</td>\n",
       "      <td>0.000000</td>\n",
       "      <td>1.000000</td>\n",
       "    </tr>\n",
       "    <tr>\n",
       "      <th>8956</th>\n",
       "      <td>hose</td>\n",
       "      <td>0</td>\n",
       "      <td>55</td>\n",
       "      <td>55</td>\n",
       "      <td>0.000000</td>\n",
       "      <td>1.000000</td>\n",
       "    </tr>\n",
       "  </tbody>\n",
       "</table>\n",
       "<p>8957 rows × 6 columns</p>\n",
       "</div>"
      ],
      "text/plain": [
       "             word  pol_occ  nonpol_occ  ssum      sc_n     sc_np\n",
       "0            http     8198        1584  9782  0.838070  0.161930\n",
       "1           trump     3934          27  3961  0.993184  0.006816\n",
       "2           house     1528        3585  5113  0.298846  0.701154\n",
       "3             amp     1147        5537  6684  0.171604  0.828396\n",
       "4     impeachment     1129           0  1129  1.000000  0.000000\n",
       "...           ...      ...         ...   ...       ...       ...\n",
       "8952        chess        0          34    34  0.000000  1.000000\n",
       "8953      arrival        0          42    42  0.000000  1.000000\n",
       "8954     mosquito        0          25    25  0.000000  1.000000\n",
       "8955       clench        0          42    42  0.000000  1.000000\n",
       "8956         hose        0          55    55  0.000000  1.000000\n",
       "\n",
       "[8957 rows x 6 columns]"
      ]
     },
     "execution_count": 104,
     "metadata": {},
     "output_type": "execute_result"
    }
   ],
   "source": [
    "worddict"
   ]
  },
  {
   "cell_type": "code",
   "execution_count": 94,
   "id": "363a3fb8",
   "metadata": {},
   "outputs": [
    {
     "data": {
      "text/html": [
       "<div>\n",
       "<style scoped>\n",
       "    .dataframe tbody tr th:only-of-type {\n",
       "        vertical-align: middle;\n",
       "    }\n",
       "\n",
       "    .dataframe tbody tr th {\n",
       "        vertical-align: top;\n",
       "    }\n",
       "\n",
       "    .dataframe thead th {\n",
       "        text-align: right;\n",
       "    }\n",
       "</style>\n",
       "<table border=\"1\" class=\"dataframe\">\n",
       "  <thead>\n",
       "    <tr style=\"text-align: right;\">\n",
       "      <th></th>\n",
       "      <th>word</th>\n",
       "      <th>pol_occ</th>\n",
       "      <th>nonpol_occ</th>\n",
       "      <th>sum</th>\n",
       "      <th>ssum</th>\n",
       "      <th>sc_n</th>\n",
       "      <th>sc_np</th>\n",
       "    </tr>\n",
       "  </thead>\n",
       "  <tbody>\n",
       "    <tr>\n",
       "      <th>352</th>\n",
       "      <td>http</td>\n",
       "      <td>8198</td>\n",
       "      <td>1584</td>\n",
       "      <td>9782</td>\n",
       "      <td>9782</td>\n",
       "      <td>0.838070</td>\n",
       "      <td>0.161930</td>\n",
       "    </tr>\n",
       "    <tr>\n",
       "      <th>358</th>\n",
       "      <td>trump</td>\n",
       "      <td>3934</td>\n",
       "      <td>27</td>\n",
       "      <td>3961</td>\n",
       "      <td>3961</td>\n",
       "      <td>0.993184</td>\n",
       "      <td>0.006816</td>\n",
       "    </tr>\n",
       "    <tr>\n",
       "      <th>157</th>\n",
       "      <td>house</td>\n",
       "      <td>1528</td>\n",
       "      <td>3585</td>\n",
       "      <td>5113</td>\n",
       "      <td>5113</td>\n",
       "      <td>0.298846</td>\n",
       "      <td>0.701154</td>\n",
       "    </tr>\n",
       "    <tr>\n",
       "      <th>1227</th>\n",
       "      <td>amp</td>\n",
       "      <td>1147</td>\n",
       "      <td>5537</td>\n",
       "      <td>6684</td>\n",
       "      <td>6684</td>\n",
       "      <td>0.171604</td>\n",
       "      <td>0.828396</td>\n",
       "    </tr>\n",
       "    <tr>\n",
       "      <th>113</th>\n",
       "      <td>impeachment</td>\n",
       "      <td>1129</td>\n",
       "      <td>0</td>\n",
       "      <td>1129</td>\n",
       "      <td>1129</td>\n",
       "      <td>1.000000</td>\n",
       "      <td>0.000000</td>\n",
       "    </tr>\n",
       "    <tr>\n",
       "      <th>...</th>\n",
       "      <td>...</td>\n",
       "      <td>...</td>\n",
       "      <td>...</td>\n",
       "      <td>...</td>\n",
       "      <td>...</td>\n",
       "      <td>...</td>\n",
       "      <td>...</td>\n",
       "    </tr>\n",
       "    <tr>\n",
       "      <th>13942</th>\n",
       "      <td>toyota</td>\n",
       "      <td>0</td>\n",
       "      <td>9</td>\n",
       "      <td>9</td>\n",
       "      <td>9</td>\n",
       "      <td>0.000000</td>\n",
       "      <td>1.000000</td>\n",
       "    </tr>\n",
       "    <tr>\n",
       "      <th>13941</th>\n",
       "      <td>eclipse</td>\n",
       "      <td>0</td>\n",
       "      <td>3</td>\n",
       "      <td>3</td>\n",
       "      <td>3</td>\n",
       "      <td>0.000000</td>\n",
       "      <td>1.000000</td>\n",
       "    </tr>\n",
       "    <tr>\n",
       "      <th>13940</th>\n",
       "      <td>muscley</td>\n",
       "      <td>0</td>\n",
       "      <td>1</td>\n",
       "      <td>1</td>\n",
       "      <td>1</td>\n",
       "      <td>0.000000</td>\n",
       "      <td>1.000000</td>\n",
       "    </tr>\n",
       "    <tr>\n",
       "      <th>13939</th>\n",
       "      <td>yorkie</td>\n",
       "      <td>0</td>\n",
       "      <td>2</td>\n",
       "      <td>2</td>\n",
       "      <td>2</td>\n",
       "      <td>0.000000</td>\n",
       "      <td>1.000000</td>\n",
       "    </tr>\n",
       "    <tr>\n",
       "      <th>31517</th>\n",
       "      <td>tryst</td>\n",
       "      <td>0</td>\n",
       "      <td>1</td>\n",
       "      <td>1</td>\n",
       "      <td>1</td>\n",
       "      <td>0.000000</td>\n",
       "      <td>1.000000</td>\n",
       "    </tr>\n",
       "  </tbody>\n",
       "</table>\n",
       "<p>33600 rows × 7 columns</p>\n",
       "</div>"
      ],
      "text/plain": [
       "              word  pol_occ  nonpol_occ   sum  ssum      sc_n     sc_np\n",
       "352           http     8198        1584  9782  9782  0.838070  0.161930\n",
       "358          trump     3934          27  3961  3961  0.993184  0.006816\n",
       "157          house     1528        3585  5113  5113  0.298846  0.701154\n",
       "1227           amp     1147        5537  6684  6684  0.171604  0.828396\n",
       "113    impeachment     1129           0  1129  1129  1.000000  0.000000\n",
       "...            ...      ...         ...   ...   ...       ...       ...\n",
       "13942       toyota        0           9     9     9  0.000000  1.000000\n",
       "13941      eclipse        0           3     3     3  0.000000  1.000000\n",
       "13940      muscley        0           1     1     1  0.000000  1.000000\n",
       "13939       yorkie        0           2     2     2  0.000000  1.000000\n",
       "31517        tryst        0           1     1     1  0.000000  1.000000\n",
       "\n",
       "[33600 rows x 7 columns]"
      ]
     },
     "execution_count": 94,
     "metadata": {},
     "output_type": "execute_result"
    }
   ],
   "source": [
    "worddict"
   ]
  },
  {
   "cell_type": "code",
   "execution_count": null,
   "id": "a3360a55",
   "metadata": {},
   "outputs": [],
   "source": []
  },
  {
   "cell_type": "code",
   "execution_count": null,
   "id": "7f7de3b6",
   "metadata": {},
   "outputs": [],
   "source": []
  },
  {
   "cell_type": "code",
   "execution_count": null,
   "id": "b471c1ac",
   "metadata": {},
   "outputs": [],
   "source": []
  },
  {
   "cell_type": "code",
   "execution_count": null,
   "id": "36219fb7",
   "metadata": {},
   "outputs": [],
   "source": []
  },
  {
   "cell_type": "code",
   "execution_count": null,
   "id": "7bf76417",
   "metadata": {},
   "outputs": [],
   "source": []
  },
  {
   "cell_type": "code",
   "execution_count": null,
   "id": "a78b9184",
   "metadata": {},
   "outputs": [],
   "source": []
  },
  {
   "cell_type": "code",
   "execution_count": null,
   "id": "3ac263bd",
   "metadata": {},
   "outputs": [],
   "source": []
  },
  {
   "cell_type": "code",
   "execution_count": null,
   "id": "71e46387",
   "metadata": {
    "scrolled": true
   },
   "outputs": [],
   "source": []
  },
  {
   "cell_type": "code",
   "execution_count": null,
   "id": "3b562969",
   "metadata": {},
   "outputs": [],
   "source": []
  },
  {
   "cell_type": "code",
   "execution_count": null,
   "id": "aa1eda57",
   "metadata": {},
   "outputs": [],
   "source": []
  },
  {
   "cell_type": "code",
   "execution_count": null,
   "id": "cdb16495",
   "metadata": {},
   "outputs": [],
   "source": []
  },
  {
   "cell_type": "code",
   "execution_count": null,
   "id": "641f7252",
   "metadata": {},
   "outputs": [],
   "source": []
  },
  {
   "cell_type": "code",
   "execution_count": null,
   "id": "eb5f852e",
   "metadata": {},
   "outputs": [],
   "source": []
  },
  {
   "cell_type": "code",
   "execution_count": null,
   "id": "1310f2fb",
   "metadata": {},
   "outputs": [],
   "source": []
  },
  {
   "cell_type": "code",
   "execution_count": null,
   "id": "6f64c230",
   "metadata": {},
   "outputs": [],
   "source": []
  },
  {
   "cell_type": "code",
   "execution_count": null,
   "id": "c745c492",
   "metadata": {},
   "outputs": [],
   "source": []
  }
 ],
 "metadata": {
  "kernelspec": {
   "display_name": "Python 3 (ipykernel)",
   "language": "python",
   "name": "python3"
  },
  "language_info": {
   "codemirror_mode": {
    "name": "ipython",
    "version": 3
   },
   "file_extension": ".py",
   "mimetype": "text/x-python",
   "name": "python",
   "nbconvert_exporter": "python",
   "pygments_lexer": "ipython3",
   "version": "3.8.10"
  }
 },
 "nbformat": 4,
 "nbformat_minor": 5
}
