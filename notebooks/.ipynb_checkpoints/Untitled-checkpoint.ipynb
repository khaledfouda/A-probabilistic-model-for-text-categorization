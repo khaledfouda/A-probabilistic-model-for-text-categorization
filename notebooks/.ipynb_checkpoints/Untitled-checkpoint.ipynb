{
 "cells": [
  {
   "cell_type": "code",
   "execution_count": 1,
   "id": "6d1453c6-84b3-4b84-af29-2526dd961ba5",
   "metadata": {},
   "outputs": [],
   "source": [
    "from IPython.core.interactiveshell import InteractiveShell\n",
    "InteractiveShell.ast_node_interactivity = \"all\""
   ]
  },
  {
   "cell_type": "code",
   "execution_count": 2,
   "id": "68dbd52c-404c-4b6f-a56a-d8c915726354",
   "metadata": {},
   "outputs": [],
   "source": [
    "import pandas as pd\n",
    "import numpy as np\n",
    "import matplotlib.pyplot as plt\n",
    "pd.options.display.max_colwidth = 5000\n",
    "import matplotlib\n",
    "import nltk\n",
    "import swifter\n",
    "import collections\n",
    "from wordcloud import WordCloud\n",
    "from prettytable import PrettyTable\n",
    "from tabulate import tabulate\n"
   ]
  },
  {
   "cell_type": "code",
   "execution_count": null,
   "id": "12bec78a-dadf-4325-9935-5d952fb02be3",
   "metadata": {},
   "outputs": [],
   "source": [
    "# # Read data file (2019&2020)\n",
    "# data = pd.read_feather('../data/feather_files/data2019clean.feather')\n",
    "# data = pd.concat((data,\\\n",
    "#         pd.read_feather('../data/feather_files/data2020clean.feather')))\n",
    "# # Take test data out\n",
    "# test = data.query(\"tclass == 'test'\").reset_index(drop=True)\n",
    "# data = data.query(\"tclass == 'political' or tclass=='nonpolitical'\").reset_index(drop=True)\n",
    "# data.head(1)\n",
    "\n",
    "train = pd.read_feather('../data/feather_files/splits/train_50.feather')\n",
    "valid = pd.read_feather('../data/feather_files/splits/valid_50.feather')\n",
    "proto = pd.read_feather('../data/feather_files/proto_50.feather')\n",
    "protoc = pd.read_feather('../data/feather_files/protoc_50.feather')\n",
    "valid.sample(3)\n"
   ]
  },
  {
   "cell_type": "code",
   "execution_count": 3,
   "id": "0f861849-d535-4801-be6f-0f85e5ef505f",
   "metadata": {},
   "outputs": [],
   "source": [
    "import logging.handlers\n",
    "from datetime import date\n",
    "# number of prototypical words to keep.\n",
    "k = 1000\n",
    "log_to_file = True\n",
    "\n",
    "\n",
    "try:\n",
    "    log.info(\"Log is already initiated.\")\n",
    "except:\n",
    "    if log_to_file:\n",
    "        logging.basicConfig(filename=f\"../data/log/scores__.log\",\n",
    "                            filemode='a',\n",
    "                            format='%(asctime)s,%(msecs)d %(name)s %(levelname)s %(message)s',\n",
    "                            datefmt='%H:%M:%S',\n",
    "                            level=logging.DEBUG)\n",
    "        log = logging.getLogger(\"Bot\")\n",
    "        log.info(\"###########################################################\")\n",
    "\n",
    "    else:\n",
    "        log = logging.getLogger(\"bot\")\n",
    "        log.setLevel(logging.DEBUG)\n",
    "        log.addHandler(logging.StreamHandler())"
   ]
  },
  {
   "cell_type": "code",
   "execution_count": null,
   "id": "153173e1-ef61-4654-a059-41d69df7c423",
   "metadata": {},
   "outputs": [],
   "source": [
    "#worddict = pd.read_feather('../data/feather_files/worddict_800.feather')\n",
    "#wp_in_u = pd.read_feather('../data/feather_files/wp_in_u_800.feather')\n"
   ]
  },
  {
   "cell_type": "code",
   "execution_count": null,
   "id": "d7ccd5de-f2cb-4817-936c-9f5dee075a50",
   "metadata": {},
   "outputs": [],
   "source": []
  },
  {
   "cell_type": "code",
   "execution_count": 4,
   "id": "573e7ab6-e927-4ef3-981a-78d535633bde",
   "metadata": {},
   "outputs": [],
   "source": [
    "def scorer(k):\n",
    "    train = pd.read_feather(f'../data/feather_files/splits/train_{k}.feather')\n",
    "    valid = pd.read_feather(f'../data/feather_files/splits/valid_{k}.feather')\n",
    "    proto = pd.read_feather(f'../data/feather_files/proto_{k}.feather')\n",
    "    protoc = pd.read_feather(f'../data/feather_files/protoc_{k}.feather')\n",
    "    \n",
    "    protom = pd.DataFrame()\n",
    "    \n",
    "    protom['sc_p'] = proto.apply(lambda d: sum(d.mul(protoc.sc_p)))\n",
    "    protom['sc_np'] = proto.apply(lambda d: sum(d.mul(protoc.sc_np)))\n",
    "    protom['pclass'] = protom.apply(lambda d: 'p' if d.sc_p > d.sc_np else 'np',axis=1)\n",
    "    protom['word'] = proto.columns\n",
    "    pprotoc = pd.DataFrame()\n",
    "    # The numerator .swifter.allow_dask_on_strings()\n",
    "    pprotoc['sc_p'] = valid.text.map(lambda d :  protom[protom.word.isin(d.split())].sc_p.sum())\n",
    "    pprotoc['sc_np'] = valid.text.map(lambda d : protom[protom.word.isin(d.split())].sc_np.sum())\n",
    "    pprotoc['tclass'] = valid.tclass\n",
    "    protoc['tclass'] = train.tclass\n",
    "    def predictor(d):\n",
    "        if d.sc_p == d.sc_np == 0:\n",
    "            return 0\n",
    "        elif (d.sc_p > d.sc_np and d.tclass == 'political') or (d.sc_p < d.sc_np and d.tclass == 'nonpolitical'):\n",
    "            return 1\n",
    "        else:\n",
    "            return -1\n",
    "\n",
    "    protoc['preds'] = protoc.swifter.apply(predictor, axis=1)\n",
    "    pprotoc['preds'] = pprotoc.swifter.apply(predictor, axis=1)\n",
    "\n",
    "\n",
    "    accuracy = pd.DataFrame()\n",
    "    acc = pprotoc.preds.value_counts()\n",
    "    acc[\"Accuracy\"] = str(np.round(acc[1]/(acc[1]+acc[-1]),4)*100) + '%'\n",
    "    acc[\"non-Response\"] = str(np.round(acc[0] / (acc[1]+acc[-1]+acc[0]),4)*100) + '%'\n",
    "    accuracy[f'Valid_{k}'] = acc\n",
    "    #-------------------------------------------------------------------------------\n",
    "    acc = protoc.preds.value_counts()\n",
    "    acc[\"Accuracy\"] = str(np.round(acc[1]/(acc[1]+acc[-1]),4)*100) + '%'\n",
    "    acc[\"non-Response\"] = str(np.round(acc[0] / (acc[1]+acc[-1]+acc[0]),4)*100) + '%'\n",
    "    accuracy[f'train_{k}'] = acc\n",
    "    #----------------------------------------------------------------------\n",
    "    return accuracy\n"
   ]
  },
  {
   "cell_type": "code",
   "execution_count": 5,
   "id": "4d52eb04-0ce5-4a36-893a-6d19689ee057",
   "metadata": {},
   "outputs": [
    {
     "data": {
      "application/vnd.jupyter.widget-view+json": {
       "model_id": "6d2fc9df1315413ea6ea238baeeb8368",
       "version_major": 2,
       "version_minor": 0
      },
      "text/plain": [
       "Dask Apply:   0%|          | 0/16 [00:00<?, ?it/s]"
      ]
     },
     "metadata": {},
     "output_type": "display_data"
    },
    {
     "data": {
      "application/vnd.jupyter.widget-view+json": {
       "model_id": "b5fc03fb753f4410825f490c2e673346",
       "version_major": 2,
       "version_minor": 0
      },
      "text/plain": [
       "Dask Apply:   0%|          | 0/16 [00:00<?, ?it/s]"
      ]
     },
     "metadata": {},
     "output_type": "display_data"
    },
    {
     "name": "stdout",
     "output_type": "stream",
     "text": [
      "+--------------+--------------+--------------+\n",
      "|              | Valid_1000   | train_1000   |\n",
      "|--------------+--------------+--------------|\n",
      "| 1            | 76043        | 310326       |\n",
      "| 0            | 16204        | 40055        |\n",
      "| -1           | 8889         | 54159        |\n",
      "| Accuracy     | 89.53%       | 85.14%       |\n",
      "| non-Response | 16.02%       | 9.9%         |\n",
      "+--------------+--------------+--------------+\n"
     ]
    }
   ],
   "source": [
    " accuracy = scorer(1000)\n",
    "# accuracy = pd.concat((accuracy,scorer(400)),axis=1)\n",
    "# accuracy = pd.concat((accuracy,scorer(600)),axis=1)\n",
    "# accuracy = pd.concat((accuracy,scorer(800)),axis=1)\n",
    "# accuracy = pd.concat((accuracy,scorer(800)),axis=1)\n",
    "# accuracy = pd.concat((accuracy,scorer(1000)),axis=1)\n",
    "\n",
    "#----\n",
    "print(tabulate(accuracy, headers='keys', tablefmt='psql'))\n",
    "log.info(tabulate(accuracy, headers='keys', tablefmt='psql'))"
   ]
  },
  {
   "cell_type": "code",
   "execution_count": null,
   "id": "6137fba5-157e-4e53-b75f-94487478c6b8",
   "metadata": {},
   "outputs": [],
   "source": [
    "print(accuracy)"
   ]
  },
  {
   "cell_type": "code",
   "execution_count": null,
   "id": "df2782ac-bbc1-4466-b038-961160a3aa3d",
   "metadata": {},
   "outputs": [],
   "source": [
    "k=200"
   ]
  },
  {
   "cell_type": "code",
   "execution_count": null,
   "id": "d6f7e390-dc7b-45f0-978f-c5cf72843d4b",
   "metadata": {},
   "outputs": [],
   "source": [
    "accuracy"
   ]
  },
  {
   "cell_type": "code",
   "execution_count": null,
   "id": "e537e6c7-71ad-49fc-b5ea-e0d450aaf136",
   "metadata": {},
   "outputs": [],
   "source": [
    "train.tclass.value_counts() / train.shape[0]\n",
    "valid.tclass.value_counts() / valid.shape[0]"
   ]
  },
  {
   "cell_type": "code",
   "execution_count": null,
   "id": "6532f4e0-4b3a-491f-9ec1-17af2c1e3d85",
   "metadata": {},
   "outputs": [],
   "source": [
    "%%time\n",
    "accuracy = scorer(200)\n"
   ]
  },
  {
   "cell_type": "code",
   "execution_count": null,
   "id": "775db0a8-2499-4ffe-bfb9-87c8a98f3bde",
   "metadata": {},
   "outputs": [],
   "source": [
    "log.info(accuracy)"
   ]
  },
  {
   "cell_type": "code",
   "execution_count": null,
   "id": "04a42ff4-08c9-42b2-86ac-f1acf950352a",
   "metadata": {},
   "outputs": [],
   "source": [
    "%%time\n",
    "print(\"8\")\n"
   ]
  },
  {
   "cell_type": "code",
   "execution_count": null,
   "id": "d0773ea3-c277-4723-a61d-a54a447d8b99",
   "metadata": {
    "tags": []
   },
   "outputs": [],
   "source": []
  },
  {
   "cell_type": "code",
   "execution_count": null,
   "id": "17acec85-6af0-4b3b-9a25-3c8ef0f76aaa",
   "metadata": {},
   "outputs": [],
   "source": []
  },
  {
   "cell_type": "code",
   "execution_count": null,
   "id": "4cc0a607-8381-4195-afca-cfe94062d6c5",
   "metadata": {},
   "outputs": [],
   "source": [
    "accuracy\n"
   ]
  },
  {
   "cell_type": "code",
   "execution_count": null,
   "id": "1a1944bf-6ea5-4888-a041-18d386a2de2d",
   "metadata": {},
   "outputs": [],
   "source": []
  },
  {
   "cell_type": "code",
   "execution_count": null,
   "id": "37141299-c292-4ee3-87dc-01b7d3036081",
   "metadata": {},
   "outputs": [],
   "source": []
  },
  {
   "cell_type": "code",
   "execution_count": null,
   "id": "1181d2ca-2da4-425c-a63d-ea7be185cea9",
   "metadata": {},
   "outputs": [],
   "source": [
    "# train = pd.read_feather(f'../data/feather_files/splits/train_{k}.feather')\n",
    "# valid = pd.read_feather(f'../data/feather_files/splits/valid_{k}.feather')\n",
    "# proto = pd.read_feather(f'../data/feather_files/proto_{k}.feather')\n",
    "# protoc = pd.read_feather(f'../data/feather_files/protoc_{k}.feather')\n",
    "\n",
    "# protom = pd.DataFrame()\n",
    "\n",
    "# protom['sc_p'] = proto.apply(lambda d: sum(d.mul(protoc.sc_p)))\n",
    "# protom['sc_np'] = proto.apply(lambda d: sum(d.mul(protoc.sc_np)))\n",
    "# protom['pclass'] = protom.apply(lambda d: 'p' if d.sc_p > d.sc_np else 'np',axis=1)\n",
    "# protom['word'] = proto.columns\n",
    "# pprotoc = pd.DataFrame()\n",
    "# # The numerator .swifter.allow_dask_on_strings()\n",
    "# pprotoc['sc_p'], pprotoc['sc_np'] = valid.text\\\n",
    "# .apply(lambda d : protom[protom.word.isin(d.split())][['sc_p','sc_np']].sum(axis=0))\n",
    "# #pprotoc['sc_np'] = valid.text.swifter.allow_dask_on_strings().apply(lambda d : protom[protom.word.isin(d.split())].sc_np.sum())\n",
    "# pprotoc['tclass'] = valid.tclass\n",
    "# protoc['tclass'] = train.tclass\n",
    "\n",
    "# def predictor(d):\n",
    "#     if d.sc_p == d.sc_np == 0:\n",
    "#         return 0\n",
    "#     elif (d.sc_p > d.sc_np and d.tclass == 'political') or (d.sc_p < d.sc_np and d.tclass == 'nonpolitical'):\n",
    "#         return 1\n",
    "#     else:\n",
    "#         return -1\n",
    "\n",
    "# protoc['preds'] = protoc.swifter.apply(predictor, axis=1)\n",
    "# pprotoc['preds'] = pprotoc.swifter.apply(predictor, axis=1)\n",
    "\n",
    "\n",
    "accuracy = pd.DataFrame()\n",
    "acc = pprotoc.preds.value_counts()\n",
    "acc[\"Accuracy\"] = str(np.round(acc[1]/(acc[1]+acc[-1]),4)*100) + '%'\n",
    "acc[\"non-Response\"] = str(np.round(acc[0] / (acc[1]+acc[-1]+acc[0]),4)*100) + '%'\n",
    "accuracy[f'Valid_{k}'] = acc\n",
    "#-------------------------------------------------------------------------------\n",
    "acc = protoc.preds.value_counts()\n",
    "acc[\"Accuracy\"] = str(np.round(acc[1]/(acc[1]+acc[-1]),4)*100) + '%'\n",
    "acc[\"non-Response\"] = str(np.round(acc[0] / (acc[1]+acc[-1]+acc[0]),4)*100) + '%'\n",
    "accuracy[f'train_{k}'] = acc"
   ]
  },
  {
   "cell_type": "code",
   "execution_count": null,
   "id": "ea47c4f1-3425-4ac0-b595-026ea71b562b",
   "metadata": {},
   "outputs": [],
   "source": [
    "pprotoc"
   ]
  },
  {
   "cell_type": "code",
   "execution_count": null,
   "id": "957444fd-b0ba-4111-868e-5801179cfe60",
   "metadata": {},
   "outputs": [],
   "source": []
  },
  {
   "cell_type": "code",
   "execution_count": null,
   "id": "47d7ab1f-47b6-4ce6-9ae9-89db731208f8",
   "metadata": {},
   "outputs": [],
   "source": [
    "protom"
   ]
  },
  {
   "cell_type": "code",
   "execution_count": null,
   "id": "ab639610-10aa-4116-a8e4-12c4bfc67ce8",
   "metadata": {},
   "outputs": [],
   "source": [
    "PrettyTable(accuracy)"
   ]
  },
  {
   "cell_type": "code",
   "execution_count": null,
   "id": "36c4948e-bb1b-4a0b-924e-010ed1ef11e4",
   "metadata": {},
   "outputs": [],
   "source": [
    "\n",
    "table = PrettyTable()\n",
    "\n",
    "table.title = 'Most common 15 words in each category'\n",
    "table.add_column('Political', np.transpose(counter_p.most_common(15))[0])\n",
    "table.add_column('Non-Political', np.transpose(counter_np.most_common(15))[0])\n",
    "table.add_column('Canada', np.transpose(counter_t.most_common(15))[0])\n",
    "log.info(table)\n",
    "log.info(table.get_latex_string())"
   ]
  }
 ],
 "metadata": {
  "kernelspec": {
   "display_name": "Python 3 (ipykernel)",
   "language": "python",
   "name": "python3"
  },
  "language_info": {
   "codemirror_mode": {
    "name": "ipython",
    "version": 3
   },
   "file_extension": ".py",
   "mimetype": "text/x-python",
   "name": "python",
   "nbconvert_exporter": "python",
   "pygments_lexer": "ipython3",
   "version": "3.8.12"
  }
 },
 "nbformat": 4,
 "nbformat_minor": 5
}
