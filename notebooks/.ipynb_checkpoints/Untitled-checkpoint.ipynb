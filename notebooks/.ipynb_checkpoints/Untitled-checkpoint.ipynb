{
 "cells": [
  {
   "cell_type": "code",
   "execution_count": null,
   "id": "6d1453c6-84b3-4b84-af29-2526dd961ba5",
   "metadata": {},
   "outputs": [],
   "source": [
    "from IPython.core.interactiveshell import InteractiveShell\n",
    "InteractiveShell.ast_node_interactivity = \"all\""
   ]
  },
  {
   "cell_type": "code",
   "execution_count": null,
   "id": "68dbd52c-404c-4b6f-a56a-d8c915726354",
   "metadata": {},
   "outputs": [],
   "source": [
    "import pandas as pd\n",
    "import numpy as np\n",
    "import matplotlib.pyplot as plt\n",
    "pd.options.display.max_colwidth = 5000\n",
    "import matplotlib\n",
    "import nltk\n",
    "import swifter\n",
    "import collections\n",
    "from wordcloud import WordCloud"
   ]
  },
  {
   "cell_type": "code",
   "execution_count": null,
   "id": "12bec78a-dadf-4325-9935-5d952fb02be3",
   "metadata": {},
   "outputs": [],
   "source": [
    "# Read data file (2019&2020)\n",
    "data = pd.read_feather('../data/feather_files/data2019clean.feather')\n",
    "data = pd.concat((data,\\\n",
    "        pd.read_feather('../data/feather_files/data2020clean.feather')))\n",
    "# Take test data out\n",
    "test = data.query(\"tclass == 'test'\").reset_index(drop=True)\n",
    "data = data.query(\"tclass == 'political' or tclass=='nonpolitical'\").reset_index(drop=True)\n",
    "data.head(1)"
   ]
  },
  {
   "cell_type": "code",
   "execution_count": null,
   "id": "153173e1-ef61-4654-a059-41d69df7c423",
   "metadata": {},
   "outputs": [],
   "source": [
    "proto = pd.read_feather('../data/feather_files/proto.feather')\n",
    "worddict = pd.read_feather('../data/feather_files/worddict.feather')\n",
    "wp_in_u = pd.read_feather('../data/feather_files/wp_in_u.feather')\n",
    "protoc = pd.read_feather('../data/feather_files/protoc.feather')"
   ]
  },
  {
   "cell_type": "code",
   "execution_count": null,
   "id": "e537e6c7-71ad-49fc-b5ea-e0d450aaf136",
   "metadata": {},
   "outputs": [],
   "source": [
    "protoc['tclass'] = data['tclass']"
   ]
  },
  {
   "cell_type": "code",
   "execution_count": null,
   "id": "d0773ea3-c277-4723-a61d-a54a447d8b99",
   "metadata": {},
   "outputs": [],
   "source": [
    "def predictor(d):\n",
    "    if d.sc_p == d.sc_np:\n",
    "        return 0\n",
    "    elif (d.sc_p > d.sc_np and d.tclass == 'political') or (d.sc_p < d.sc_np and d.tclass == 'nonpolitical'):\n",
    "        return 1\n",
    "    else:\n",
    "        return -1\n",
    "\n",
    "protoc['preds'] = protoc.apply(predictor, axis=1)"
   ]
  },
  {
   "cell_type": "code",
   "execution_count": null,
   "id": "17acec85-6af0-4b3b-9a25-3c8ef0f76aaa",
   "metadata": {},
   "outputs": [],
   "source": [
    "protoc.preds.value_counts()"
   ]
  },
  {
   "cell_type": "code",
   "execution_count": null,
   "id": "4cc0a607-8381-4195-afca-cfe94062d6c5",
   "metadata": {},
   "outputs": [],
   "source": [
    "data"
   ]
  },
  {
   "cell_type": "code",
   "execution_count": null,
   "id": "1a1944bf-6ea5-4888-a041-18d386a2de2d",
   "metadata": {},
   "outputs": [],
   "source": []
  },
  {
   "cell_type": "code",
   "execution_count": null,
   "id": "37141299-c292-4ee3-87dc-01b7d3036081",
   "metadata": {},
   "outputs": [],
   "source": []
  },
  {
   "cell_type": "code",
   "execution_count": null,
   "id": "1181d2ca-2da4-425c-a63d-ea7be185cea9",
   "metadata": {},
   "outputs": [],
   "source": []
  },
  {
   "cell_type": "code",
   "execution_count": null,
   "id": "ea47c4f1-3425-4ac0-b595-026ea71b562b",
   "metadata": {},
   "outputs": [],
   "source": []
  }
 ],
 "metadata": {
  "kernelspec": {
   "display_name": "Python 3 (ipykernel)",
   "language": "python",
   "name": "python3"
  },
  "language_info": {
   "codemirror_mode": {
    "name": "ipython",
    "version": 3
   },
   "file_extension": ".py",
   "mimetype": "text/x-python",
   "name": "python",
   "nbconvert_exporter": "python",
   "pygments_lexer": "ipython3",
   "version": "3.8.12"
  }
 },
 "nbformat": 4,
 "nbformat_minor": 5
}
