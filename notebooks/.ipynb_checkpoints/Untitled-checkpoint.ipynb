{
 "cells": [
  {
   "cell_type": "code",
   "execution_count": 1,
   "id": "5ce7dc33-c1cf-459d-b0c0-ed40ba2035fb",
   "metadata": {},
   "outputs": [],
   "source": [
    "import sys, importlib\n",
    "sys.path.append('../scripts')\n",
    "import pandas as pd"
   ]
  },
  {
   "cell_type": "code",
   "execution_count": 2,
   "id": "340deba2-c73d-4904-95cc-129d2bf611f1",
   "metadata": {},
   "outputs": [
    {
     "ename": "KeyError",
     "evalue": "'prototypical_fit'",
     "output_type": "error",
     "traceback": [
      "\u001b[1;31m---------------------------------------------------------------------------\u001b[0m",
      "\u001b[1;31mKeyError\u001b[0m                                  Traceback (most recent call last)",
      "\u001b[1;32m~\\AppData\\Local\\Temp/ipykernel_2172/3937678431.py\u001b[0m in \u001b[0;36m<module>\u001b[1;34m\u001b[0m\n\u001b[1;32m----> 1\u001b[1;33m \u001b[0mimportlib\u001b[0m\u001b[1;33m.\u001b[0m\u001b[0mreload\u001b[0m\u001b[1;33m(\u001b[0m\u001b[0msys\u001b[0m\u001b[1;33m.\u001b[0m\u001b[0mmodules\u001b[0m\u001b[1;33m[\u001b[0m\u001b[1;34m'prototypical_fit'\u001b[0m\u001b[1;33m]\u001b[0m\u001b[1;33m)\u001b[0m\u001b[1;33m\u001b[0m\u001b[1;33m\u001b[0m\u001b[0m\n\u001b[0m\u001b[0;32m      2\u001b[0m \u001b[1;32mfrom\u001b[0m \u001b[0mprototypical_fit\u001b[0m \u001b[1;32mimport\u001b[0m \u001b[0mfit\u001b[0m\u001b[1;33m\u001b[0m\u001b[1;33m\u001b[0m\u001b[0m\n",
      "\u001b[1;31mKeyError\u001b[0m: 'prototypical_fit'"
     ]
    }
   ],
   "source": [
    "from prototypical_fit import fit\n",
    "importlib.reload(sys.modules['prototypical_fit'])\n"
   ]
  },
  {
   "cell_type": "code",
   "execution_count": null,
   "id": "e59e0270-78ec-47db-a838-7469fd93a2be",
   "metadata": {},
   "outputs": [],
   "source": [
    "# Read data file (2019&2020)\n",
    "data = pd.read_feather('../data/feather_files/data2019clean.feather')\n",
    "data = pd.concat((data,\\\n",
    "        pd.read_feather('../data/feather_files/data2020clean.feather')))\n",
    "# Take test data out\n",
    "test = data.query(\"tclass == 'test'\").reset_index(drop=True).rename(columns={'text':'X'})[['X']]\n",
    "data = data.query(\"tclass == 'political' or tclass=='nonpolitical'\").reset_index(drop=True)\n",
    "data['X'] = data.text\n",
    "data['Y'] = pd.get_dummies(data.tclass).drop('nonpolitical', axis=1).values.ravel()\n",
    "data = data[['X','Y']]\n",
    "print(\"A data sample\")\n",
    "print(data.head(1))\n",
    "print(f\"The shape of the data is {data.shape}\")\n",
    "print('Proportions of positive (political) and negative labels:')\n",
    "print(data.Y.value_counts() / data.shape[0]) "
   ]
  },
  {
   "cell_type": "code",
   "execution_count": null,
   "id": "d7b9b0f4-2bd9-4f34-a2a7-fd4d88daeba7",
   "metadata": {},
   "outputs": [],
   "source": [
    "%% time\n",
    "fit(data, 'Reddit', k=900, log_to_file=True)"
   ]
  },
  {
   "cell_type": "code",
   "execution_count": null,
   "id": "a0d87dd1-e296-4f6e-946f-1bac37493e52",
   "metadata": {},
   "outputs": [],
   "source": []
  },
  {
   "cell_type": "code",
   "execution_count": null,
   "id": "a2ed114f-6f62-44cf-af32-1b3e61a6d100",
   "metadata": {},
   "outputs": [],
   "source": []
  },
  {
   "cell_type": "code",
   "execution_count": null,
   "id": "73cf8ec1-2853-439f-8876-3db1e05dff98",
   "metadata": {},
   "outputs": [],
   "source": []
  }
 ],
 "metadata": {
  "kernelspec": {
   "display_name": "Python 3 (ipykernel)",
   "language": "python",
   "name": "python3"
  },
  "language_info": {
   "codemirror_mode": {
    "name": "ipython",
    "version": 3
   },
   "file_extension": ".py",
   "mimetype": "text/x-python",
   "name": "python",
   "nbconvert_exporter": "python",
   "pygments_lexer": "ipython3",
   "version": "3.9.7"
  }
 },
 "nbformat": 4,
 "nbformat_minor": 5
}
