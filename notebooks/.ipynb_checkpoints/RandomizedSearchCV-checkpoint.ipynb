{
 "cells": [
  {
   "cell_type": "code",
   "execution_count": 1,
   "id": "66e60f26-5c31-4b5e-850c-41bdc9af59fb",
   "metadata": {},
   "outputs": [],
   "source": [
    "from IPython.core.interactiveshell import InteractiveShell\n",
    "InteractiveShell.ast_node_interactivity = \"all\""
   ]
  },
  {
   "cell_type": "code",
   "execution_count": null,
   "id": "d2cef2ad-31ae-4e70-81be-4055c2f76e8f",
   "metadata": {},
   "outputs": [],
   "source": []
  },
  {
   "cell_type": "code",
   "execution_count": 9,
   "id": "6e906c58-4b5b-499d-8aca-5f963129da75",
   "metadata": {
    "scrolled": true
   },
   "outputs": [],
   "source": [
    "from sklearn.feature_extraction.text import TfidfVectorizer\n",
    "from sklearn.ensemble import RandomForestClassifier\n",
    "from sklearn.model_selection import RandomizedSearchCV, train_test_split\n",
    "from sklearn.metrics import confusion_matrix, accuracy_score, precision_recall_fscore_support, f1_score, precision_score, recall_score"
   ]
  },
  {
   "cell_type": "code",
   "execution_count": 3,
   "id": "0822a77e-6d79-4237-ae8b-330bff705d5e",
   "metadata": {},
   "outputs": [],
   "source": [
    "import pandas as pd\n",
    "import numpy as np\n",
    "# import matplotlib.pyplot as plt\n",
    "pd.options.display.max_colwidth = 5000\n",
    "# import matplotlib\n",
    "# import nltk\n",
    "#import swifter\n",
    "#import collections\n",
    "#from wordcloud import WordCloud\n",
    "#from sklearn.model_selection import train_test_split\n",
    "import logging.handlers\n",
    "#from prettytable import PrettyTable\n",
    "from datetime import date\n",
    "# import pickle\n"
   ]
  },
  {
   "cell_type": "code",
   "execution_count": 4,
   "id": "e3158d90-03b4-48cf-b99f-b82f4b98c123",
   "metadata": {},
   "outputs": [
    {
     "name": "stderr",
     "output_type": "stream",
     "text": [
      "###########################################################\n"
     ]
    }
   ],
   "source": [
    "# number of prototypical words to keep.\n",
    "k = 200\n",
    "log_to_file = True\n",
    "\n",
    "\n",
    "try:\n",
    "    log.info(\"*******************************\")\n",
    "    log.info(\"Log is already initiated.\")\n",
    "except:\n",
    "    if log_to_file:\n",
    "        logging.basicConfig(filename=f\"../data/log/log_CV training_Kaggle_.log\",\n",
    "                            filemode='a',\n",
    "                            format='%(asctime)s,%(msecs)d %(name)s %(levelname)s %(message)s',\n",
    "                            datefmt='%H:%M:%S',\n",
    "                            level=logging.DEBUG)\n",
    "        log = logging.getLogger(\"Bot\")\n",
    "        log.addHandler(logging.StreamHandler())\n",
    "        log.info(\"###########################################################\")\n",
    "\n",
    "    else:\n",
    "        log = logging.getLogger(\"Bot\")\n",
    "        log.setLevel(logging.DEBUG)\n",
    "        log.addHandler(logging.StreamHandler())"
   ]
  },
  {
   "cell_type": "code",
   "execution_count": 5,
   "id": "75b3912f-0d14-4c82-b4b7-a0db5914b5b8",
   "metadata": {},
   "outputs": [
    {
     "data": {
      "text/html": [
       "<div>\n",
       "<style scoped>\n",
       "    .dataframe tbody tr th:only-of-type {\n",
       "        vertical-align: middle;\n",
       "    }\n",
       "\n",
       "    .dataframe tbody tr th {\n",
       "        vertical-align: top;\n",
       "    }\n",
       "\n",
       "    .dataframe thead th {\n",
       "        text-align: right;\n",
       "    }\n",
       "</style>\n",
       "<table border=\"1\" class=\"dataframe\">\n",
       "  <thead>\n",
       "    <tr style=\"text-align: right;\">\n",
       "      <th></th>\n",
       "      <th>X</th>\n",
       "      <th>Y</th>\n",
       "    </tr>\n",
       "  </thead>\n",
       "  <tbody>\n",
       "    <tr>\n",
       "      <th>0</th>\n",
       "      <td>trey radel   slam</td>\n",
       "      <td>0</td>\n",
       "    </tr>\n",
       "    <tr>\n",
       "      <th>1</th>\n",
       "      <td>video   full  high cost  break</td>\n",
       "      <td>0</td>\n",
       "    </tr>\n",
       "    <tr>\n",
       "      <th>2</th>\n",
       "      <td>please join  today  remember  fall hero  honor    woman currently  military service</td>\n",
       "      <td>1</td>\n",
       "    </tr>\n",
       "  </tbody>\n",
       "</table>\n",
       "</div>"
      ],
      "text/plain": [
       "                                                                                        X  \\\n",
       "0                                                                    trey radel   slam      \n",
       "1                                                        video   full  high cost  break     \n",
       "2  please join  today  remember  fall hero  honor    woman currently  military service      \n",
       "\n",
       "   Y  \n",
       "0  0  \n",
       "1  0  \n",
       "2  1  "
      ]
     },
     "execution_count": 5,
     "metadata": {},
     "output_type": "execute_result"
    }
   ],
   "source": [
    "# Read data file (2019&2020)\n",
    "data = pd.read_feather('../data/feather_files/KaggleDataset_cleaned.feather')\n",
    "data.head(3)"
   ]
  },
  {
   "cell_type": "code",
   "execution_count": 6,
   "id": "43f31764-cc8c-47f3-9b13-8f438ca4a76a",
   "metadata": {},
   "outputs": [],
   "source": [
    "vectorizer = TfidfVectorizer()\n",
    "X = vectorizer.fit_transform(data.X)\n",
    "Y = data.Y"
   ]
  },
  {
   "cell_type": "code",
   "execution_count": 7,
   "id": "7a830d48-13d8-4024-b0df-746c01a8cdb9",
   "metadata": {},
   "outputs": [
    {
     "name": "stderr",
     "output_type": "stream",
     "text": [
      "Taking 20.0% test subset. The resulting train shape is (3947, 7600) and test shape is (987,)\n"
     ]
    }
   ],
   "source": [
    "test_size = .2\n",
    "X_train, X_valid, Y_train, Y_valid = train_test_split(X, Y, test_size=test_size, random_state=100,shuffle=True, stratify=data.Y)\n",
    "log.info(f\"Taking {round(.2*100,2)}% test subset. The resulting train shape is {X_train.shape} and test shape is {Y_valid.shape}\" )\n"
   ]
  },
  {
   "cell_type": "code",
   "execution_count": 8,
   "id": "46cd0035-e617-49c4-8203-21c8131724a2",
   "metadata": {
    "tags": []
   },
   "outputs": [
    {
     "name": "stderr",
     "output_type": "stream",
     "text": [
      "[Parallel(n_jobs=4)]: Using backend ThreadingBackend with 4 concurrent workers.\n",
      "[Parallel(n_jobs=4)]: Done  42 tasks      | elapsed:    0.3s\n",
      "[Parallel(n_jobs=4)]: Done 192 tasks      | elapsed:    1.8s\n",
      "[Parallel(n_jobs=4)]: Done 442 tasks      | elapsed:    4.2s\n",
      "[Parallel(n_jobs=4)]: Done 792 tasks      | elapsed:    7.7s\n",
      "[Parallel(n_jobs=4)]: Done 1000 out of 1000 | elapsed:    9.6s finished\n"
     ]
    },
    {
     "data": {
      "text/plain": [
       "RandomForestClassifier(bootstrap=False, class_weight='balanced_subsample',\n",
       "                       max_depth=80, min_samples_leaf=2, min_samples_split=5,\n",
       "                       n_estimators=1000, n_jobs=4, verbose=1)"
      ]
     },
     "execution_count": 8,
     "metadata": {},
     "output_type": "execute_result"
    }
   ],
   "source": [
    "# best parameter\n",
    "best_fit = RandomForestClassifier(bootstrap=False, class_weight='balanced_subsample',\n",
    "                       max_depth=80, min_samples_leaf=2, min_samples_split=5, n_estimators=1000, n_jobs=4, verbose=1)\n",
    "\n",
    "best_fit.fit(X_train, Y_train)"
   ]
  },
  {
   "cell_type": "code",
   "execution_count": null,
   "id": "cee2a23b-7e33-4c16-a320-461df3ebae92",
   "metadata": {},
   "outputs": [
    {
     "name": "stdout",
     "output_type": "stream",
     "text": [
      "Fitting 5 folds for each of 10 candidates, totalling 50 fits\n"
     ]
    }
   ],
   "source": [
    "class_weight = ['balanced', 'balanced_subsample']\n",
    "n_estimators = [50, 100, 150, 500, 1000]\n",
    "max_features = ['auto', 'sqrt']\n",
    "max_depth = [10, 50, 80, 100, 120]\n",
    "min_samples_split = [2, 5, 6, 7, 10]\n",
    "min_samples_leaf = [1, 2, 4, 6]\n",
    "bootstrap = [True, False]\n",
    "param_grid = {'class_weight' : class_weight,\n",
    "               'n_estimators': n_estimators,\n",
    "               'max_features': max_features,\n",
    "               'max_depth': max_depth,\n",
    "               'min_samples_split': min_samples_split,\n",
    "               'min_samples_leaf': min_samples_leaf,\n",
    "               'bootstrap': bootstrap}\n",
    "               \n",
    "rf = RandomForestClassifier(verbose=10)\n",
    "rf_random = RandomizedSearchCV(estimator = rf, param_distributions = param_grid, \n",
    "                               n_iter = 10, cv = 5, random_state=6, n_jobs = -1,verbose = 600)\n",
    "                               \n",
    "rf_random.fit(X_train,Y_train)\n",
    "optimized_rf = rf_random.best_estimator_"
   ]
  },
  {
   "cell_type": "code",
   "execution_count": null,
   "id": "65a0e930-3eec-4d4d-87a8-f1540de7107f",
   "metadata": {},
   "outputs": [],
   "source": [
    "def SCORER(y_true, y_pred):\n",
    "    scr = pd.Series(dtype=np.float32)\n",
    "    scr[\"f1_score\"] = f1_score(y_true, y_pred)\n",
    "    scr[\"Accuracy\"] = accuracy_score(y_true, y_pred)\n",
    "    scr['Precision'] = precision_score(y_true, y_pred)\n",
    "    scr['Recall'] = recall_score(y_true, y_pred)\n",
    "    return scr\n",
    "\n",
    "pred_train = best_fit.predict(X_train)\n",
    "pred_valid = best_fit.predict(X_valid)\n",
    "scores = pd.DataFrame()\n",
    "scores[f'Train'] = SCORER(Y_train, pred_train)\n",
    "scores[f'Valid'] = SCORER(Y_valid, pred_valid)\n",
    "log.info(tabulate(scores, headers='keys', tablefmt='psql'))\n",
    "log.info(tabulate(scores, headers='keys', tablefmt='latex_raw'))"
   ]
  },
  {
   "cell_type": "code",
   "execution_count": null,
   "id": "22b5afb0-b091-4ddc-8905-ce7982b5c66b",
   "metadata": {},
   "outputs": [],
   "source": [
    "log.info(\"Best parameters\")\n",
    "log.info(optimized_rf)\n",
    "log.info(\"Best score\")\n",
    "log.info(rf_random.best_score_)\n",
    "preds = rf_random.predict(X_valid)\n",
    "log.info(f\"Confusion Matrix:\")\n",
    "log.info(confusion_matrix(Y_valid, preds))\n",
    "log.info(\"Accuracy\")\n",
    "log.info(accuracy_score(Y_valid,preds))\n",
    "log.info(\"Precision Recall Fscore Support\")\n",
    "log.info(precision_recall_fscore_support(Y_valid, preds))"
   ]
  },
  {
   "cell_type": "markdown",
   "id": "d225748d-40fc-47d1-8ed4-d03be96075fe",
   "metadata": {},
   "source": [
    "---------\n",
    "## Run best fit"
   ]
  },
  {
   "cell_type": "code",
   "execution_count": null,
   "id": "e8cd9235-f89c-44bd-99af-d736c9cd6ecc",
   "metadata": {},
   "outputs": [],
   "source": []
  },
  {
   "cell_type": "code",
   "execution_count": null,
   "id": "349e0026-c5ce-4453-b67d-b258c5a61874",
   "metadata": {},
   "outputs": [],
   "source": [
    "model_outfile = \"../data/models/randomforest_26Nov.pickle\"\n",
    "log.info(f\"Saving trained model to {model_outfile}\")\n",
    "pickle.dump(best_fit, open(model_outfile, 'wb'))"
   ]
  },
  {
   "cell_type": "code",
   "execution_count": null,
   "id": "80d1bff2-9063-445e-b127-53ab795a5632",
   "metadata": {
    "tags": []
   },
   "outputs": [],
   "source": [
    "\n",
    "preds = best_fit.predict(X_valid)\n",
    "log.info(f\"Confusion Matrix:\")\n",
    "log.info(confusion_matrix(Y_valid, preds))\n",
    "log.info(\"Accuracy\")\n",
    "log.info(accuracy_score(Y_valid,preds))\n",
    "log.info(\"Precision Recall Fscore Support\")\n",
    "log.info(precision_recall_fscore_support(Y_valid, preds))"
   ]
  },
  {
   "cell_type": "code",
   "execution_count": null,
   "id": "bdf4d228-f898-436a-9aa3-bdefb8ee252e",
   "metadata": {},
   "outputs": [],
   "source": []
  }
 ],
 "metadata": {
  "kernelspec": {
   "display_name": "Python 3 (ipykernel)",
   "language": "python",
   "name": "python3"
  },
  "language_info": {
   "codemirror_mode": {
    "name": "ipython",
    "version": 3
   },
   "file_extension": ".py",
   "mimetype": "text/x-python",
   "name": "python",
   "nbconvert_exporter": "python",
   "pygments_lexer": "ipython3",
   "version": "3.9.7"
  }
 },
 "nbformat": 4,
 "nbformat_minor": 5
}
