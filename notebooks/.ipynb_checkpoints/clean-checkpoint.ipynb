{
 "cells": [
  {
   "cell_type": "code",
   "execution_count": null,
   "id": "47f3bbcd",
   "metadata": {},
   "outputs": [],
   "source": [
    "import pandas as pd\n",
    "from nltk import sent_tokenize, word_tokenize, WordNetLemmatizer\n",
    "from nltk.corpus import stopwords\n",
    "import swifter\n",
    "pd.options.display.max_colwidth = 5000\n",
    "subreddit_list = ['canada', 'liberal', 'conservative','politics',\\\n",
    "\"twoxchromosomes\",'todayilearned',\"showerthoughts\",\"tifu\"]\n",
    "political = ['liberal', 'conservative','politics']\n",
    "nonpolitical = [\"twoxchromosomes\",\"showerthoughts\",\\\n",
    "                'todayilearned',\"tifu\"]"
   ]
  },
  {
   "cell_type": "markdown",
   "id": "3c3055f2",
   "metadata": {},
   "source": [
    "# 2019"
   ]
  },
  {
   "cell_type": "code",
   "execution_count": null,
   "id": "3742b887",
   "metadata": {},
   "outputs": [],
   "source": [
    "\n",
    "# Read the feather files\n",
    "def clean(year):\n",
    "    data = pd.DataFrame()\n",
    "    for sub in subreddit_list:\n",
    "        rf = pd.read_feather('../data/feather_files/RS_'+year+\\\n",
    "                             '_'+sub+'_df.feather')\n",
    "        if sub in political:\n",
    "            rf['tclass'] = 'political'\n",
    "        elif sub in nonpolitical:\n",
    "            rf['tclass'] = 'nonpolitical'\n",
    "        elif sub == 'canada':\n",
    "            rf['tclass'] = 'test'\n",
    "        else:\n",
    "            rf['tclass'] = 'Unkown'\n",
    "        data = pd.concat((data,rf))\n",
    "    \n",
    "    # remove the entry of deleted posts.\n",
    "    data.selftext = data.selftext.replace({'[deleted]':'', '[removed]':''})\n",
    "    # combining titles with the post body.\n",
    "    data['text'] = data.title + \" \" + data.selftext\n",
    "    # deleting the previous two columns.\n",
    "    data.drop(columns=[\"title\",\"selftext\"],inplace=True)\n",
    "\n",
    "    # Removing posts with less than 10 characters in the body.\n",
    "    data = data[(data.text.astype(str).str.len()>20)].reset_index()\n",
    "    print(data.groupby('tclass').describe(percentiles=[.5]))\n",
    "    print(data.groupby('subreddit').describe(percentiles=[.5]))\n",
    "    \n",
    "    def clean_text(text):\n",
    "        \"\"\"\n",
    "        Input : text\n",
    "        output : cleaned text\n",
    "        process:\n",
    "            1.Remove non-alphabitical words\n",
    "            2.remove words of less than 3 characters\n",
    "            3.Remove stopwords\n",
    "            4.Transform words to lower characters\n",
    "            4.lemmatize the text - First verbs then nouns\n",
    "            * Steps are performed in that order.\n",
    "        \"\"\"\n",
    "        tokens = word_tokenize(text)\n",
    "        lemma = WordNetLemmatizer()\n",
    "        def clean(word):\n",
    "            if not word.isalpha() or len(word) < 3:\n",
    "                return False\n",
    "            if word.lower() in stopwords.words(\"english\"):\n",
    "                return False\n",
    "            return True\n",
    "        tokens = \" \".join(str(x) for x in \\\n",
    "            [lemma.lemmatize(\\\n",
    "                lemma.lemmatize(word.lower(),pos=\"v\")\\\n",
    "                ,pos=\"n\") for word in tokens if clean(word)]\\\n",
    "            )\n",
    "        return tokens\n",
    "    #--------------------------------------------------\n",
    "    data.text = data.text.swifter.allow_dask_on_strings(enable=True).apply(clean_text)\n",
    "    data.reset_index().drop(columns=['index'])\\\n",
    "        .to_feather('../data/feather_files/data'+year+'clean.feather')\n",
    "    return data"
   ]
  },
  {
   "cell_type": "markdown",
   "id": "d3b3a3d8",
   "metadata": {},
   "source": []
  },
  {
   "cell_type": "code",
   "execution_count": null,
   "id": "540821ec",
   "metadata": {},
   "outputs": [],
   "source": [
    "data = clean('2019')"
   ]
  },
  {
   "cell_type": "code",
   "execution_count": null,
   "id": "5a93946d",
   "metadata": {},
   "outputs": [],
   "source": []
  },
  {
   "cell_type": "code",
   "execution_count": null,
   "id": "3e1a7c7e",
   "metadata": {},
   "outputs": [],
   "source": []
  },
  {
   "cell_type": "code",
   "execution_count": null,
   "id": "43a98662",
   "metadata": {},
   "outputs": [],
   "source": [
    "data2 = clean('2020')"
   ]
  },
  {
   "cell_type": "code",
   "execution_count": null,
   "id": "23dec55b",
   "metadata": {},
   "outputs": [],
   "source": []
  }
 ],
 "metadata": {
  "kernelspec": {
   "display_name": "Python 3 (ipykernel)",
   "language": "python",
   "name": "python3"
  },
  "language_info": {
   "codemirror_mode": {
    "name": "ipython",
    "version": 3
   },
   "file_extension": ".py",
   "mimetype": "text/x-python",
   "name": "python",
   "nbconvert_exporter": "python",
   "pygments_lexer": "ipython3",
   "version": "3.8.10"
  }
 },
 "nbformat": 4,
 "nbformat_minor": 5
}
