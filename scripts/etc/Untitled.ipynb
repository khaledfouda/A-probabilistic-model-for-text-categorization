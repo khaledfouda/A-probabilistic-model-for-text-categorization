{
 "cells": [
  {
   "cell_type": "code",
   "execution_count": null,
   "id": "6d5e5e1e",
   "metadata": {},
   "outputs": [],
   "source": [
    "# this is an example of loading and iterating over a single file\n",
    "\n",
    "import zstandard\n",
    "import os\n",
    "import json\n",
    "import sys\n",
    "from datetime import datetime\n",
    "import logging.handlers\n",
    "\n",
    "\n",
    "log = logging.getLogger(\"bot\")\n",
    "log.setLevel(logging.DEBUG)\n",
    "log.addHandler(logging.StreamHandler())\n",
    "\n",
    "\n",
    "def read_lines_zst(file_name):\n",
    "\twith open(file_name, 'rb') as file_handle:\n",
    "\t\tbuffer = ''\n",
    "\t\treader = zstandard.ZstdDecompressor(max_window_size=2**31).stream_reader(file_handle)\n",
    "\t\twhile True:\n",
    "\t\t\tchunk = reader.read(2**27).decode()\n",
    "\t\t\tif not chunk:\n",
    "\t\t\t\tbreak\n",
    "\t\t\tlines = (buffer + chunk).split(\"\\n\")\n",
    "\n",
    "\t\t\tfor line in lines[:-1]:\n",
    "\t\t\t\tyield line, file_handle.tell()\n",
    "\n",
    "\t\t\tbuffer = lines[-1]\n",
    "\t\treader.close()\n",
    "\n",
    "\n",
    "if __name__ == \"__main__\":\n",
    "\tfile_path = sys.argv[1]\n",
    "\tfile_size = os.stat(file_path).st_size\n",
    "\tfile_lines = 0\n",
    "\tfile_bytes_processed = 0\n",
    "\tcreated = None\n",
    "\tfield = \"subreddit\"\n",
    "\tvalue = \"wallstreetbets\"\n",
    "\tbad_lines = 0\n",
    "\ttry:\n",
    "\t\tfor line, file_bytes_processed in read_lines_zst(file_path):\n",
    "\t\t\ttry:\n",
    "\t\t\t\tobj = json.loads(line)\n",
    "\t\t\t\tcreated = datetime.utcfromtimestamp(int(obj['created_utc']))\n",
    "\t\t\t\ttemp = obj[field] == value\n",
    "\t\t\texcept (KeyError, json.JSONDecodeError) as err:\n",
    "\t\t\t\tbad_lines += 1\n",
    "\t\t\tfile_lines += 1\n",
    "\t\t\tif file_lines % 100000 == 0:\n",
    "\t\t\t\tlog.info(f\"{created.strftime('%Y-%m-%d %H:%M:%S')} : {file_lines:,} : {bad_lines:,} : {(file_bytes_processed / file_size) * 100:.0f}%\")\n",
    "\texcept Exception as err:\n",
    "\t\tlog.info(err)\n",
    "\n",
    "\tlog.info(f\"Complete : {file_lines:,} : {bad_lines:,}\")"
   ]
  },
  {
   "cell_type": "code",
   "execution_count": null,
   "id": "75bd1c41",
   "metadata": {},
   "outputs": [],
   "source": []
  },
  {
   "cell_type": "code",
   "execution_count": null,
   "id": "a4c660ce",
   "metadata": {},
   "outputs": [],
   "source": []
  },
  {
   "cell_type": "code",
   "execution_count": null,
   "id": "ffdc1c32",
   "metadata": {},
   "outputs": [],
   "source": []
  },
  {
   "cell_type": "code",
   "execution_count": null,
   "id": "22089417",
   "metadata": {},
   "outputs": [],
   "source": []
  },
  {
   "cell_type": "code",
   "execution_count": null,
   "id": "b32a7549",
   "metadata": {},
   "outputs": [],
   "source": []
  },
  {
   "cell_type": "code",
   "execution_count": null,
   "id": "46a375c5",
   "metadata": {},
   "outputs": [],
   "source": []
  }
 ],
 "metadata": {
  "kernelspec": {
   "display_name": "Python 3 (ipykernel)",
   "language": "python",
   "name": "python3"
  },
  "language_info": {
   "codemirror_mode": {
    "name": "ipython",
    "version": 3
   },
   "file_extension": ".py",
   "mimetype": "text/x-python",
   "name": "python",
   "nbconvert_exporter": "python",
   "pygments_lexer": "ipython3",
   "version": "3.8.10"
  }
 },
 "nbformat": 4,
 "nbformat_minor": 5
}
